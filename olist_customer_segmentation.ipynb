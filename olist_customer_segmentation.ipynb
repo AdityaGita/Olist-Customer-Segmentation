{
  "cells": [
    {
      "cell_type": "markdown",
      "metadata": {
        "colab_type": "text",
        "id": "view-in-github"
      },
      "source": [
        "<a href=\"https://colab.research.google.com/github/AdityaGita/Olist-Customer-Segmentation/blob/main/olist_customer_segmentation.ipynb\" target=\"_parent\"><img src=\"https://colab.research.google.com/assets/colab-badge.svg\" alt=\"Open In Colab\"/></a>"
      ]
    },
    {
      "cell_type": "markdown",
      "metadata": {
        "id": "uEfevMwH6-ke"
      },
      "source": [
        "# **Import Libraries**"
      ]
    },
    {
      "cell_type": "code",
      "execution_count": 1,
      "metadata": {
        "id": "RZykb8uDPExS"
      },
      "outputs": [],
      "source": [
        "import pandas as pd\n",
        "import numpy as np\n",
        "import matplotlib.pyplot as plt\n",
        "import seaborn as sns\n",
        "from datetime import datetime\n",
        "from datetime import timedelta\n",
        "from sklearn.preprocessing import StandardScaler\n",
        "from sklearn.cluster import KMeans\n",
        "pd.set_option('display.float_format', lambda x: '%.3f' % x)"
      ]
    },
    {
      "cell_type": "markdown",
      "metadata": {
        "id": "3lROoBL77Quh"
      },
      "source": [
        "# **Fetch The Datasets**"
      ]
    },
    {
      "cell_type": "code",
      "execution_count": 2,
      "metadata": {
        "id": "DsCuRAQWYT0B"
      },
      "outputs": [],
      "source": [
        "orders_dataset = 'https://drive.google.com/file/d/1R9g5f310AA1Zmrnmd8P8jclnyToN54Bx/view?usp=sharing'\n",
        "orders_dataset = 'https://drive.google.com/uc?id=' + orders_dataset.split('/')[-2]\n",
        "od = pd.read_csv(orders_dataset)\n",
        "customers_dataset = 'https://drive.google.com/file/d/1S_BzA_P4v26oIvErtB4Ta64fQB53Hw1_/view?usp=sharing'\n",
        "customers_dataset = 'https://drive.google.com/uc?id=' + customers_dataset.split('/')[-2]\n",
        "cd = pd.read_csv(customers_dataset)\n",
        "order_payments_dataset ='https://drive.google.com/file/d/1JBzMoiRBy6YsxHoS3OhysRcZZyRh5DQD/view?usp=sharing'\n",
        "order_payments_dataset = 'https://drive.google.com/uc?id=' + order_payments_dataset.split('/')[-2]\n",
        "opd = pd.read_csv(order_payments_dataset)"
      ]
    },
    {
      "cell_type": "markdown",
      "metadata": {
        "id": "9BNa9VuyVg9j"
      },
      "source": [
        "**Display orders_dataset**"
      ]
    },
    {
      "cell_type": "code",
      "execution_count": 3,
      "metadata": {
        "colab": {
          "base_uri": "https://localhost:8080/",
          "height": 270
        },
        "id": "NebzNw-kFiUP",
        "outputId": "41ce79c3-b661-4c22-aced-e29e032ddbcb"
      },
      "outputs": [
        {
          "data": {
            "text/html": [
              "<div>\n",
              "<style scoped>\n",
              "    .dataframe tbody tr th:only-of-type {\n",
              "        vertical-align: middle;\n",
              "    }\n",
              "\n",
              "    .dataframe tbody tr th {\n",
              "        vertical-align: top;\n",
              "    }\n",
              "\n",
              "    .dataframe thead th {\n",
              "        text-align: right;\n",
              "    }\n",
              "</style>\n",
              "<table border=\"1\" class=\"dataframe\">\n",
              "  <thead>\n",
              "    <tr style=\"text-align: right;\">\n",
              "      <th></th>\n",
              "      <th>order_id</th>\n",
              "      <th>customer_id</th>\n",
              "      <th>order_status</th>\n",
              "      <th>order_purchase_timestamp</th>\n",
              "      <th>order_approved_at</th>\n",
              "      <th>order_delivered_carrier_date</th>\n",
              "      <th>order_delivered_customer_date</th>\n",
              "      <th>order_estimated_delivery_date</th>\n",
              "    </tr>\n",
              "  </thead>\n",
              "  <tbody>\n",
              "    <tr>\n",
              "      <th>0</th>\n",
              "      <td>e481f51cbdc54678b7cc49136f2d6af7</td>\n",
              "      <td>9ef432eb6251297304e76186b10a928d</td>\n",
              "      <td>delivered</td>\n",
              "      <td>2017-10-02 10:56:33</td>\n",
              "      <td>2017-10-02 11:07:15</td>\n",
              "      <td>2017-10-04 19:55:00</td>\n",
              "      <td>2017-10-10 21:25:13</td>\n",
              "      <td>2017-10-18 00:00:00</td>\n",
              "    </tr>\n",
              "    <tr>\n",
              "      <th>1</th>\n",
              "      <td>53cdb2fc8bc7dce0b6741e2150273451</td>\n",
              "      <td>b0830fb4747a6c6d20dea0b8c802d7ef</td>\n",
              "      <td>delivered</td>\n",
              "      <td>2018-07-24 20:41:37</td>\n",
              "      <td>2018-07-26 03:24:27</td>\n",
              "      <td>2018-07-26 14:31:00</td>\n",
              "      <td>2018-08-07 15:27:45</td>\n",
              "      <td>2018-08-13 00:00:00</td>\n",
              "    </tr>\n",
              "    <tr>\n",
              "      <th>2</th>\n",
              "      <td>47770eb9100c2d0c44946d9cf07ec65d</td>\n",
              "      <td>41ce2a54c0b03bf3443c3d931a367089</td>\n",
              "      <td>delivered</td>\n",
              "      <td>2018-08-08 08:38:49</td>\n",
              "      <td>2018-08-08 08:55:23</td>\n",
              "      <td>2018-08-08 13:50:00</td>\n",
              "      <td>2018-08-17 18:06:29</td>\n",
              "      <td>2018-09-04 00:00:00</td>\n",
              "    </tr>\n",
              "    <tr>\n",
              "      <th>3</th>\n",
              "      <td>949d5b44dbf5de918fe9c16f97b45f8a</td>\n",
              "      <td>f88197465ea7920adcdbec7375364d82</td>\n",
              "      <td>delivered</td>\n",
              "      <td>2017-11-18 19:28:06</td>\n",
              "      <td>2017-11-18 19:45:59</td>\n",
              "      <td>2017-11-22 13:39:59</td>\n",
              "      <td>2017-12-02 00:28:42</td>\n",
              "      <td>2017-12-15 00:00:00</td>\n",
              "    </tr>\n",
              "    <tr>\n",
              "      <th>4</th>\n",
              "      <td>ad21c59c0840e6cb83a9ceb5573f8159</td>\n",
              "      <td>8ab97904e6daea8866dbdbc4fb7aad2c</td>\n",
              "      <td>delivered</td>\n",
              "      <td>2018-02-13 21:18:39</td>\n",
              "      <td>2018-02-13 22:20:29</td>\n",
              "      <td>2018-02-14 19:46:34</td>\n",
              "      <td>2018-02-16 18:17:02</td>\n",
              "      <td>2018-02-26 00:00:00</td>\n",
              "    </tr>\n",
              "  </tbody>\n",
              "</table>\n",
              "</div>"
            ],
            "text/plain": [
              "                           order_id                       customer_id  \\\n",
              "0  e481f51cbdc54678b7cc49136f2d6af7  9ef432eb6251297304e76186b10a928d   \n",
              "1  53cdb2fc8bc7dce0b6741e2150273451  b0830fb4747a6c6d20dea0b8c802d7ef   \n",
              "2  47770eb9100c2d0c44946d9cf07ec65d  41ce2a54c0b03bf3443c3d931a367089   \n",
              "3  949d5b44dbf5de918fe9c16f97b45f8a  f88197465ea7920adcdbec7375364d82   \n",
              "4  ad21c59c0840e6cb83a9ceb5573f8159  8ab97904e6daea8866dbdbc4fb7aad2c   \n",
              "\n",
              "  order_status order_purchase_timestamp    order_approved_at  \\\n",
              "0    delivered      2017-10-02 10:56:33  2017-10-02 11:07:15   \n",
              "1    delivered      2018-07-24 20:41:37  2018-07-26 03:24:27   \n",
              "2    delivered      2018-08-08 08:38:49  2018-08-08 08:55:23   \n",
              "3    delivered      2017-11-18 19:28:06  2017-11-18 19:45:59   \n",
              "4    delivered      2018-02-13 21:18:39  2018-02-13 22:20:29   \n",
              "\n",
              "  order_delivered_carrier_date order_delivered_customer_date  \\\n",
              "0          2017-10-04 19:55:00           2017-10-10 21:25:13   \n",
              "1          2018-07-26 14:31:00           2018-08-07 15:27:45   \n",
              "2          2018-08-08 13:50:00           2018-08-17 18:06:29   \n",
              "3          2017-11-22 13:39:59           2017-12-02 00:28:42   \n",
              "4          2018-02-14 19:46:34           2018-02-16 18:17:02   \n",
              "\n",
              "  order_estimated_delivery_date  \n",
              "0           2017-10-18 00:00:00  \n",
              "1           2018-08-13 00:00:00  \n",
              "2           2018-09-04 00:00:00  \n",
              "3           2017-12-15 00:00:00  \n",
              "4           2018-02-26 00:00:00  "
            ]
          },
          "execution_count": 3,
          "metadata": {},
          "output_type": "execute_result"
        }
      ],
      "source": [
        "od.head()"
      ]
    },
    {
      "cell_type": "code",
      "execution_count": 4,
      "metadata": {
        "colab": {
          "base_uri": "https://localhost:8080/"
        },
        "id": "gwVbbgi_SufV",
        "outputId": "3cb68cfb-52e4-40f0-8198-837d5fd5bc2e"
      },
      "outputs": [
        {
          "name": "stdout",
          "output_type": "stream",
          "text": [
            "<class 'pandas.core.frame.DataFrame'>\n",
            "RangeIndex: 99441 entries, 0 to 99440\n",
            "Data columns (total 8 columns):\n",
            " #   Column                         Non-Null Count  Dtype \n",
            "---  ------                         --------------  ----- \n",
            " 0   order_id                       99441 non-null  object\n",
            " 1   customer_id                    99441 non-null  object\n",
            " 2   order_status                   99441 non-null  object\n",
            " 3   order_purchase_timestamp       99441 non-null  object\n",
            " 4   order_approved_at              99281 non-null  object\n",
            " 5   order_delivered_carrier_date   97658 non-null  object\n",
            " 6   order_delivered_customer_date  96476 non-null  object\n",
            " 7   order_estimated_delivery_date  99441 non-null  object\n",
            "dtypes: object(8)\n",
            "memory usage: 6.1+ MB\n"
          ]
        }
      ],
      "source": [
        "od.info()"
      ]
    },
    {
      "cell_type": "markdown",
      "metadata": {
        "id": "WHa1yDcOVlGL"
      },
      "source": [
        "**Display customers_dataset**"
      ]
    },
    {
      "cell_type": "code",
      "execution_count": 5,
      "metadata": {
        "colab": {
          "base_uri": "https://localhost:8080/",
          "height": 206
        },
        "id": "ThWPVLw_GW39",
        "outputId": "ff74ada5-5829-4394-b2a6-85d606f8f20f"
      },
      "outputs": [
        {
          "data": {
            "text/html": [
              "<div>\n",
              "<style scoped>\n",
              "    .dataframe tbody tr th:only-of-type {\n",
              "        vertical-align: middle;\n",
              "    }\n",
              "\n",
              "    .dataframe tbody tr th {\n",
              "        vertical-align: top;\n",
              "    }\n",
              "\n",
              "    .dataframe thead th {\n",
              "        text-align: right;\n",
              "    }\n",
              "</style>\n",
              "<table border=\"1\" class=\"dataframe\">\n",
              "  <thead>\n",
              "    <tr style=\"text-align: right;\">\n",
              "      <th></th>\n",
              "      <th>customer_id</th>\n",
              "      <th>customer_unique_id</th>\n",
              "      <th>customer_zip_code_prefix</th>\n",
              "      <th>customer_city</th>\n",
              "      <th>customer_state</th>\n",
              "    </tr>\n",
              "  </thead>\n",
              "  <tbody>\n",
              "    <tr>\n",
              "      <th>0</th>\n",
              "      <td>06b8999e2fba1a1fbc88172c00ba8bc7</td>\n",
              "      <td>861eff4711a542e4b93843c6dd7febb0</td>\n",
              "      <td>14409</td>\n",
              "      <td>franca</td>\n",
              "      <td>SP</td>\n",
              "    </tr>\n",
              "    <tr>\n",
              "      <th>1</th>\n",
              "      <td>18955e83d337fd6b2def6b18a428ac77</td>\n",
              "      <td>290c77bc529b7ac935b93aa66c333dc3</td>\n",
              "      <td>9790</td>\n",
              "      <td>sao bernardo do campo</td>\n",
              "      <td>SP</td>\n",
              "    </tr>\n",
              "    <tr>\n",
              "      <th>2</th>\n",
              "      <td>4e7b3e00288586ebd08712fdd0374a03</td>\n",
              "      <td>060e732b5b29e8181a18229c7b0b2b5e</td>\n",
              "      <td>1151</td>\n",
              "      <td>sao paulo</td>\n",
              "      <td>SP</td>\n",
              "    </tr>\n",
              "    <tr>\n",
              "      <th>3</th>\n",
              "      <td>b2b6027bc5c5109e529d4dc6358b12c3</td>\n",
              "      <td>259dac757896d24d7702b9acbbff3f3c</td>\n",
              "      <td>8775</td>\n",
              "      <td>mogi das cruzes</td>\n",
              "      <td>SP</td>\n",
              "    </tr>\n",
              "    <tr>\n",
              "      <th>4</th>\n",
              "      <td>4f2d8ab171c80ec8364f7c12e35b23ad</td>\n",
              "      <td>345ecd01c38d18a9036ed96c73b8d066</td>\n",
              "      <td>13056</td>\n",
              "      <td>campinas</td>\n",
              "      <td>SP</td>\n",
              "    </tr>\n",
              "  </tbody>\n",
              "</table>\n",
              "</div>"
            ],
            "text/plain": [
              "                        customer_id                customer_unique_id  \\\n",
              "0  06b8999e2fba1a1fbc88172c00ba8bc7  861eff4711a542e4b93843c6dd7febb0   \n",
              "1  18955e83d337fd6b2def6b18a428ac77  290c77bc529b7ac935b93aa66c333dc3   \n",
              "2  4e7b3e00288586ebd08712fdd0374a03  060e732b5b29e8181a18229c7b0b2b5e   \n",
              "3  b2b6027bc5c5109e529d4dc6358b12c3  259dac757896d24d7702b9acbbff3f3c   \n",
              "4  4f2d8ab171c80ec8364f7c12e35b23ad  345ecd01c38d18a9036ed96c73b8d066   \n",
              "\n",
              "   customer_zip_code_prefix          customer_city customer_state  \n",
              "0                     14409                 franca             SP  \n",
              "1                      9790  sao bernardo do campo             SP  \n",
              "2                      1151              sao paulo             SP  \n",
              "3                      8775        mogi das cruzes             SP  \n",
              "4                     13056               campinas             SP  "
            ]
          },
          "execution_count": 5,
          "metadata": {},
          "output_type": "execute_result"
        }
      ],
      "source": [
        "cd.head()"
      ]
    },
    {
      "cell_type": "code",
      "execution_count": 6,
      "metadata": {
        "colab": {
          "base_uri": "https://localhost:8080/"
        },
        "id": "sEdneKxJU6u5",
        "outputId": "efbb1058-6348-422b-8400-c88405541a40"
      },
      "outputs": [
        {
          "name": "stdout",
          "output_type": "stream",
          "text": [
            "<class 'pandas.core.frame.DataFrame'>\n",
            "RangeIndex: 99441 entries, 0 to 99440\n",
            "Data columns (total 5 columns):\n",
            " #   Column                    Non-Null Count  Dtype \n",
            "---  ------                    --------------  ----- \n",
            " 0   customer_id               99441 non-null  object\n",
            " 1   customer_unique_id        99441 non-null  object\n",
            " 2   customer_zip_code_prefix  99441 non-null  int64 \n",
            " 3   customer_city             99441 non-null  object\n",
            " 4   customer_state            99441 non-null  object\n",
            "dtypes: int64(1), object(4)\n",
            "memory usage: 3.8+ MB\n"
          ]
        }
      ],
      "source": [
        "cd.info()"
      ]
    },
    {
      "cell_type": "markdown",
      "metadata": {
        "id": "8S1A6DIkVqpF"
      },
      "source": [
        "**Display order_payments_dataset**"
      ]
    },
    {
      "cell_type": "code",
      "execution_count": 7,
      "metadata": {
        "colab": {
          "base_uri": "https://localhost:8080/",
          "height": 206
        },
        "id": "OdbuHebBGZhG",
        "outputId": "200002a8-131e-4deb-d1fd-7b17254b90fc"
      },
      "outputs": [
        {
          "data": {
            "text/html": [
              "<div>\n",
              "<style scoped>\n",
              "    .dataframe tbody tr th:only-of-type {\n",
              "        vertical-align: middle;\n",
              "    }\n",
              "\n",
              "    .dataframe tbody tr th {\n",
              "        vertical-align: top;\n",
              "    }\n",
              "\n",
              "    .dataframe thead th {\n",
              "        text-align: right;\n",
              "    }\n",
              "</style>\n",
              "<table border=\"1\" class=\"dataframe\">\n",
              "  <thead>\n",
              "    <tr style=\"text-align: right;\">\n",
              "      <th></th>\n",
              "      <th>order_id</th>\n",
              "      <th>payment_sequential</th>\n",
              "      <th>payment_type</th>\n",
              "      <th>payment_installments</th>\n",
              "      <th>payment_value</th>\n",
              "    </tr>\n",
              "  </thead>\n",
              "  <tbody>\n",
              "    <tr>\n",
              "      <th>0</th>\n",
              "      <td>b81ef226f3fe1789b1e8b2acac839d17</td>\n",
              "      <td>1</td>\n",
              "      <td>credit_card</td>\n",
              "      <td>8</td>\n",
              "      <td>99.330</td>\n",
              "    </tr>\n",
              "    <tr>\n",
              "      <th>1</th>\n",
              "      <td>a9810da82917af2d9aefd1278f1dcfa0</td>\n",
              "      <td>1</td>\n",
              "      <td>credit_card</td>\n",
              "      <td>1</td>\n",
              "      <td>24.390</td>\n",
              "    </tr>\n",
              "    <tr>\n",
              "      <th>2</th>\n",
              "      <td>25e8ea4e93396b6fa0d3dd708e76c1bd</td>\n",
              "      <td>1</td>\n",
              "      <td>credit_card</td>\n",
              "      <td>1</td>\n",
              "      <td>65.710</td>\n",
              "    </tr>\n",
              "    <tr>\n",
              "      <th>3</th>\n",
              "      <td>ba78997921bbcdc1373bb41e913ab953</td>\n",
              "      <td>1</td>\n",
              "      <td>credit_card</td>\n",
              "      <td>8</td>\n",
              "      <td>107.780</td>\n",
              "    </tr>\n",
              "    <tr>\n",
              "      <th>4</th>\n",
              "      <td>42fdf880ba16b47b59251dd489d4441a</td>\n",
              "      <td>1</td>\n",
              "      <td>credit_card</td>\n",
              "      <td>2</td>\n",
              "      <td>128.450</td>\n",
              "    </tr>\n",
              "  </tbody>\n",
              "</table>\n",
              "</div>"
            ],
            "text/plain": [
              "                           order_id  payment_sequential payment_type  \\\n",
              "0  b81ef226f3fe1789b1e8b2acac839d17                   1  credit_card   \n",
              "1  a9810da82917af2d9aefd1278f1dcfa0                   1  credit_card   \n",
              "2  25e8ea4e93396b6fa0d3dd708e76c1bd                   1  credit_card   \n",
              "3  ba78997921bbcdc1373bb41e913ab953                   1  credit_card   \n",
              "4  42fdf880ba16b47b59251dd489d4441a                   1  credit_card   \n",
              "\n",
              "   payment_installments  payment_value  \n",
              "0                     8         99.330  \n",
              "1                     1         24.390  \n",
              "2                     1         65.710  \n",
              "3                     8        107.780  \n",
              "4                     2        128.450  "
            ]
          },
          "execution_count": 7,
          "metadata": {},
          "output_type": "execute_result"
        }
      ],
      "source": [
        "opd.head()"
      ]
    },
    {
      "cell_type": "code",
      "execution_count": 8,
      "metadata": {
        "colab": {
          "base_uri": "https://localhost:8080/"
        },
        "id": "ad8yukBzV8zp",
        "outputId": "61d855d8-80b0-4b25-b0e0-2ab71bb55056"
      },
      "outputs": [
        {
          "name": "stdout",
          "output_type": "stream",
          "text": [
            "<class 'pandas.core.frame.DataFrame'>\n",
            "RangeIndex: 103886 entries, 0 to 103885\n",
            "Data columns (total 5 columns):\n",
            " #   Column                Non-Null Count   Dtype  \n",
            "---  ------                --------------   -----  \n",
            " 0   order_id              103886 non-null  object \n",
            " 1   payment_sequential    103886 non-null  int64  \n",
            " 2   payment_type          103886 non-null  object \n",
            " 3   payment_installments  103886 non-null  int64  \n",
            " 4   payment_value         103886 non-null  float64\n",
            "dtypes: float64(1), int64(2), object(2)\n",
            "memory usage: 4.0+ MB\n"
          ]
        }
      ],
      "source": [
        "opd.info()"
      ]
    },
    {
      "cell_type": "markdown",
      "metadata": {
        "id": "EKhyBzNZV3Oi"
      },
      "source": [
        "**Join All Datasets**"
      ]
    },
    {
      "cell_type": "code",
      "execution_count": 9,
      "metadata": {
        "colab": {
          "base_uri": "https://localhost:8080/",
          "height": 270
        },
        "id": "7ix3hSrPGfz1",
        "outputId": "9d7ed3e7-5da0-4f61-9246-8dd879aac9ac"
      },
      "outputs": [
        {
          "data": {
            "text/html": [
              "<div>\n",
              "<style scoped>\n",
              "    .dataframe tbody tr th:only-of-type {\n",
              "        vertical-align: middle;\n",
              "    }\n",
              "\n",
              "    .dataframe tbody tr th {\n",
              "        vertical-align: top;\n",
              "    }\n",
              "\n",
              "    .dataframe thead th {\n",
              "        text-align: right;\n",
              "    }\n",
              "</style>\n",
              "<table border=\"1\" class=\"dataframe\">\n",
              "  <thead>\n",
              "    <tr style=\"text-align: right;\">\n",
              "      <th></th>\n",
              "      <th>order_id</th>\n",
              "      <th>payment_sequential</th>\n",
              "      <th>payment_type</th>\n",
              "      <th>payment_installments</th>\n",
              "      <th>payment_value</th>\n",
              "      <th>customer_id</th>\n",
              "      <th>order_status</th>\n",
              "      <th>order_purchase_timestamp</th>\n",
              "      <th>order_approved_at</th>\n",
              "      <th>order_delivered_carrier_date</th>\n",
              "      <th>order_delivered_customer_date</th>\n",
              "      <th>order_estimated_delivery_date</th>\n",
              "      <th>customer_unique_id</th>\n",
              "      <th>customer_zip_code_prefix</th>\n",
              "      <th>customer_city</th>\n",
              "      <th>customer_state</th>\n",
              "    </tr>\n",
              "  </thead>\n",
              "  <tbody>\n",
              "    <tr>\n",
              "      <th>0</th>\n",
              "      <td>b81ef226f3fe1789b1e8b2acac839d17</td>\n",
              "      <td>1.000</td>\n",
              "      <td>credit_card</td>\n",
              "      <td>8.000</td>\n",
              "      <td>99.330</td>\n",
              "      <td>0a8556ac6be836b46b3e89920d59291c</td>\n",
              "      <td>delivered</td>\n",
              "      <td>2018-04-25 22:01:49</td>\n",
              "      <td>2018-04-25 22:15:09</td>\n",
              "      <td>2018-05-02 15:20:00</td>\n",
              "      <td>2018-05-09 17:36:51</td>\n",
              "      <td>2018-05-22 00:00:00</td>\n",
              "      <td>708ab75d2a007f0564aedd11139c7708</td>\n",
              "      <td>39801</td>\n",
              "      <td>teofilo otoni</td>\n",
              "      <td>MG</td>\n",
              "    </tr>\n",
              "    <tr>\n",
              "      <th>1</th>\n",
              "      <td>a9810da82917af2d9aefd1278f1dcfa0</td>\n",
              "      <td>1.000</td>\n",
              "      <td>credit_card</td>\n",
              "      <td>1.000</td>\n",
              "      <td>24.390</td>\n",
              "      <td>f2c7fc58a9de810828715166c672f10a</td>\n",
              "      <td>delivered</td>\n",
              "      <td>2018-06-26 11:01:38</td>\n",
              "      <td>2018-06-26 11:18:58</td>\n",
              "      <td>2018-06-28 14:18:00</td>\n",
              "      <td>2018-06-29 20:32:09</td>\n",
              "      <td>2018-07-16 00:00:00</td>\n",
              "      <td>a8b9d3a27068454b1c98cc67d4e31e6f</td>\n",
              "      <td>2422</td>\n",
              "      <td>sao paulo</td>\n",
              "      <td>SP</td>\n",
              "    </tr>\n",
              "    <tr>\n",
              "      <th>2</th>\n",
              "      <td>25e8ea4e93396b6fa0d3dd708e76c1bd</td>\n",
              "      <td>1.000</td>\n",
              "      <td>credit_card</td>\n",
              "      <td>1.000</td>\n",
              "      <td>65.710</td>\n",
              "      <td>25b14b69de0b6e184ae6fe2755e478f9</td>\n",
              "      <td>delivered</td>\n",
              "      <td>2017-12-12 11:19:55</td>\n",
              "      <td>2017-12-14 09:52:34</td>\n",
              "      <td>2017-12-15 20:13:22</td>\n",
              "      <td>2017-12-18 17:24:41</td>\n",
              "      <td>2018-01-04 00:00:00</td>\n",
              "      <td>6f70c0b2f7552832ba46eb57b1c5651e</td>\n",
              "      <td>2652</td>\n",
              "      <td>sao paulo</td>\n",
              "      <td>SP</td>\n",
              "    </tr>\n",
              "    <tr>\n",
              "      <th>3</th>\n",
              "      <td>ba78997921bbcdc1373bb41e913ab953</td>\n",
              "      <td>1.000</td>\n",
              "      <td>credit_card</td>\n",
              "      <td>8.000</td>\n",
              "      <td>107.780</td>\n",
              "      <td>7a5d8efaaa1081f800628c30d2b0728f</td>\n",
              "      <td>delivered</td>\n",
              "      <td>2017-12-06 12:04:06</td>\n",
              "      <td>2017-12-06 12:13:20</td>\n",
              "      <td>2017-12-07 20:28:28</td>\n",
              "      <td>2017-12-21 01:35:51</td>\n",
              "      <td>2018-01-04 00:00:00</td>\n",
              "      <td>87695ed086ebd36f20404c82d20fca87</td>\n",
              "      <td>36060</td>\n",
              "      <td>juiz de fora</td>\n",
              "      <td>MG</td>\n",
              "    </tr>\n",
              "    <tr>\n",
              "      <th>4</th>\n",
              "      <td>42fdf880ba16b47b59251dd489d4441a</td>\n",
              "      <td>1.000</td>\n",
              "      <td>credit_card</td>\n",
              "      <td>2.000</td>\n",
              "      <td>128.450</td>\n",
              "      <td>15fd6fb8f8312dbb4674e4518d6fa3b3</td>\n",
              "      <td>delivered</td>\n",
              "      <td>2018-05-21 13:59:17</td>\n",
              "      <td>2018-05-21 16:14:41</td>\n",
              "      <td>2018-05-22 11:46:00</td>\n",
              "      <td>2018-06-01 21:44:53</td>\n",
              "      <td>2018-06-13 00:00:00</td>\n",
              "      <td>4291db0da71914754618cd789aebcd56</td>\n",
              "      <td>18570</td>\n",
              "      <td>conchas</td>\n",
              "      <td>SP</td>\n",
              "    </tr>\n",
              "  </tbody>\n",
              "</table>\n",
              "</div>"
            ],
            "text/plain": [
              "                           order_id  payment_sequential payment_type  \\\n",
              "0  b81ef226f3fe1789b1e8b2acac839d17               1.000  credit_card   \n",
              "1  a9810da82917af2d9aefd1278f1dcfa0               1.000  credit_card   \n",
              "2  25e8ea4e93396b6fa0d3dd708e76c1bd               1.000  credit_card   \n",
              "3  ba78997921bbcdc1373bb41e913ab953               1.000  credit_card   \n",
              "4  42fdf880ba16b47b59251dd489d4441a               1.000  credit_card   \n",
              "\n",
              "   payment_installments  payment_value                       customer_id  \\\n",
              "0                 8.000         99.330  0a8556ac6be836b46b3e89920d59291c   \n",
              "1                 1.000         24.390  f2c7fc58a9de810828715166c672f10a   \n",
              "2                 1.000         65.710  25b14b69de0b6e184ae6fe2755e478f9   \n",
              "3                 8.000        107.780  7a5d8efaaa1081f800628c30d2b0728f   \n",
              "4                 2.000        128.450  15fd6fb8f8312dbb4674e4518d6fa3b3   \n",
              "\n",
              "  order_status order_purchase_timestamp    order_approved_at  \\\n",
              "0    delivered      2018-04-25 22:01:49  2018-04-25 22:15:09   \n",
              "1    delivered      2018-06-26 11:01:38  2018-06-26 11:18:58   \n",
              "2    delivered      2017-12-12 11:19:55  2017-12-14 09:52:34   \n",
              "3    delivered      2017-12-06 12:04:06  2017-12-06 12:13:20   \n",
              "4    delivered      2018-05-21 13:59:17  2018-05-21 16:14:41   \n",
              "\n",
              "  order_delivered_carrier_date order_delivered_customer_date  \\\n",
              "0          2018-05-02 15:20:00           2018-05-09 17:36:51   \n",
              "1          2018-06-28 14:18:00           2018-06-29 20:32:09   \n",
              "2          2017-12-15 20:13:22           2017-12-18 17:24:41   \n",
              "3          2017-12-07 20:28:28           2017-12-21 01:35:51   \n",
              "4          2018-05-22 11:46:00           2018-06-01 21:44:53   \n",
              "\n",
              "  order_estimated_delivery_date                customer_unique_id  \\\n",
              "0           2018-05-22 00:00:00  708ab75d2a007f0564aedd11139c7708   \n",
              "1           2018-07-16 00:00:00  a8b9d3a27068454b1c98cc67d4e31e6f   \n",
              "2           2018-01-04 00:00:00  6f70c0b2f7552832ba46eb57b1c5651e   \n",
              "3           2018-01-04 00:00:00  87695ed086ebd36f20404c82d20fca87   \n",
              "4           2018-06-13 00:00:00  4291db0da71914754618cd789aebcd56   \n",
              "\n",
              "   customer_zip_code_prefix  customer_city customer_state  \n",
              "0                     39801  teofilo otoni             MG  \n",
              "1                      2422      sao paulo             SP  \n",
              "2                      2652      sao paulo             SP  \n",
              "3                     36060   juiz de fora             MG  \n",
              "4                     18570        conchas             SP  "
            ]
          },
          "execution_count": 9,
          "metadata": {},
          "output_type": "execute_result"
        }
      ],
      "source": [
        "df = opd.merge(od, on='order_id', how='left' )\n",
        "df = df.merge(cd, on='customer_id', how='outer')\n",
        "df.head()"
      ]
    },
    {
      "cell_type": "markdown",
      "metadata": {
        "id": "0Q29VPuwWDI4"
      },
      "source": [
        "# **Data Cleaning**\n",
        "**Check each columns data types**"
      ]
    },
    {
      "cell_type": "code",
      "execution_count": 10,
      "metadata": {
        "colab": {
          "base_uri": "https://localhost:8080/"
        },
        "id": "GHZsX7twJ01_",
        "outputId": "84e8ba07-7e08-4d8b-c7d2-eefe68dd8b19"
      },
      "outputs": [
        {
          "name": "stdout",
          "output_type": "stream",
          "text": [
            "<class 'pandas.core.frame.DataFrame'>\n",
            "Int64Index: 103887 entries, 0 to 103886\n",
            "Data columns (total 16 columns):\n",
            " #   Column                         Non-Null Count   Dtype  \n",
            "---  ------                         --------------   -----  \n",
            " 0   order_id                       103886 non-null  object \n",
            " 1   payment_sequential             103886 non-null  float64\n",
            " 2   payment_type                   103886 non-null  object \n",
            " 3   payment_installments           103886 non-null  float64\n",
            " 4   payment_value                  103886 non-null  float64\n",
            " 5   customer_id                    103887 non-null  object \n",
            " 6   order_status                   103886 non-null  object \n",
            " 7   order_purchase_timestamp       103886 non-null  object \n",
            " 8   order_approved_at              103711 non-null  object \n",
            " 9   order_delivered_carrier_date   101998 non-null  object \n",
            " 10  order_delivered_customer_date  100754 non-null  object \n",
            " 11  order_estimated_delivery_date  103886 non-null  object \n",
            " 12  customer_unique_id             103887 non-null  object \n",
            " 13  customer_zip_code_prefix       103887 non-null  int64  \n",
            " 14  customer_city                  103887 non-null  object \n",
            " 15  customer_state                 103887 non-null  object \n",
            "dtypes: float64(3), int64(1), object(12)\n",
            "memory usage: 13.5+ MB\n"
          ]
        }
      ],
      "source": [
        "df.info()"
      ]
    },
    {
      "cell_type": "markdown",
      "metadata": {
        "id": "gJp3CKQ2HIZZ"
      },
      "source": [
        "**Change dtype from object to datetime64[ns]**"
      ]
    },
    {
      "cell_type": "code",
      "execution_count": 11,
      "metadata": {
        "id": "qFqqVp5KFtd6"
      },
      "outputs": [],
      "source": [
        "datetime = ['order_purchase_timestamp','order_approved_at','order_delivered_carrier_date','order_delivered_customer_date','order_estimated_delivery_date']\n",
        "for col in datetime:\n",
        "  df[col] = pd.to_datetime(df[col], errors = 'coerce')"
      ]
    },
    {
      "cell_type": "code",
      "execution_count": 12,
      "metadata": {
        "colab": {
          "base_uri": "https://localhost:8080/"
        },
        "id": "IpdvitgiGzeu",
        "outputId": "21e286e2-d474-4b8c-f1d7-c96543b27ee2"
      },
      "outputs": [
        {
          "name": "stdout",
          "output_type": "stream",
          "text": [
            "<class 'pandas.core.frame.DataFrame'>\n",
            "Int64Index: 103887 entries, 0 to 103886\n",
            "Data columns (total 16 columns):\n",
            " #   Column                         Non-Null Count   Dtype         \n",
            "---  ------                         --------------   -----         \n",
            " 0   order_id                       103886 non-null  object        \n",
            " 1   payment_sequential             103886 non-null  float64       \n",
            " 2   payment_type                   103886 non-null  object        \n",
            " 3   payment_installments           103886 non-null  float64       \n",
            " 4   payment_value                  103886 non-null  float64       \n",
            " 5   customer_id                    103887 non-null  object        \n",
            " 6   order_status                   103886 non-null  object        \n",
            " 7   order_purchase_timestamp       103886 non-null  datetime64[ns]\n",
            " 8   order_approved_at              103711 non-null  datetime64[ns]\n",
            " 9   order_delivered_carrier_date   101998 non-null  datetime64[ns]\n",
            " 10  order_delivered_customer_date  100754 non-null  datetime64[ns]\n",
            " 11  order_estimated_delivery_date  103886 non-null  datetime64[ns]\n",
            " 12  customer_unique_id             103887 non-null  object        \n",
            " 13  customer_zip_code_prefix       103887 non-null  int64         \n",
            " 14  customer_city                  103887 non-null  object        \n",
            " 15  customer_state                 103887 non-null  object        \n",
            "dtypes: datetime64[ns](5), float64(3), int64(1), object(7)\n",
            "memory usage: 13.5+ MB\n"
          ]
        }
      ],
      "source": [
        "df.info()"
      ]
    },
    {
      "cell_type": "markdown",
      "metadata": {
        "id": "kqIBjgyWWKQM"
      },
      "source": [
        "**Removing Irrelevant Values**"
      ]
    },
    {
      "cell_type": "code",
      "execution_count": 13,
      "metadata": {
        "id": "NPsDqiaPHYW7"
      },
      "outputs": [],
      "source": [
        "dc = df.copy()"
      ]
    },
    {
      "cell_type": "code",
      "execution_count": 14,
      "metadata": {
        "colab": {
          "base_uri": "https://localhost:8080/"
        },
        "id": "UtM62S-2KNBU",
        "outputId": "881a2336-a3c0-495a-e876-35f44471cf27"
      },
      "outputs": [
        {
          "name": "stdout",
          "output_type": "stream",
          "text": [
            "<class 'pandas.core.frame.DataFrame'>\n",
            "Int64Index: 103887 entries, 0 to 103886\n",
            "Data columns (total 11 columns):\n",
            " #   Column                    Non-Null Count   Dtype         \n",
            "---  ------                    --------------   -----         \n",
            " 0   order_id                  103886 non-null  object        \n",
            " 1   payment_type              103886 non-null  object        \n",
            " 2   payment_installments      103886 non-null  float64       \n",
            " 3   payment_value             103886 non-null  float64       \n",
            " 4   customer_id               103887 non-null  object        \n",
            " 5   order_status              103886 non-null  object        \n",
            " 6   order_purchase_timestamp  103886 non-null  datetime64[ns]\n",
            " 7   customer_unique_id        103887 non-null  object        \n",
            " 8   customer_zip_code_prefix  103887 non-null  int64         \n",
            " 9   customer_city             103887 non-null  object        \n",
            " 10  customer_state            103887 non-null  object        \n",
            "dtypes: datetime64[ns](1), float64(2), int64(1), object(7)\n",
            "memory usage: 9.5+ MB\n"
          ]
        }
      ],
      "source": [
        "dc = dc.drop(columns=['payment_sequential','order_approved_at','order_delivered_carrier_date','order_delivered_customer_date','order_estimated_delivery_date'], axis=1)\n",
        "dc.info()"
      ]
    },
    {
      "cell_type": "markdown",
      "metadata": {
        "id": "c0rDy3nQw5xF"
      },
      "source": [
        "**String Manipulation by changing column name from 'order_purchase_timestamp' to 'order_time'**"
      ]
    },
    {
      "cell_type": "code",
      "execution_count": 15,
      "metadata": {
        "colab": {
          "base_uri": "https://localhost:8080/"
        },
        "id": "NBiUWufouKBl",
        "outputId": "f8cd74c2-8fd4-448f-c226-f677c11faaef"
      },
      "outputs": [
        {
          "name": "stdout",
          "output_type": "stream",
          "text": [
            "<class 'pandas.core.frame.DataFrame'>\n",
            "Int64Index: 103887 entries, 0 to 103886\n",
            "Data columns (total 11 columns):\n",
            " #   Column                    Non-Null Count   Dtype         \n",
            "---  ------                    --------------   -----         \n",
            " 0   order_id                  103886 non-null  object        \n",
            " 1   payment_type              103886 non-null  object        \n",
            " 2   payment_installments      103886 non-null  float64       \n",
            " 3   payment_value             103886 non-null  float64       \n",
            " 4   customer_id               103887 non-null  object        \n",
            " 5   order_status              103886 non-null  object        \n",
            " 6   order_time                103886 non-null  datetime64[ns]\n",
            " 7   customer_unique_id        103887 non-null  object        \n",
            " 8   customer_zip_code_prefix  103887 non-null  int64         \n",
            " 9   customer_city             103887 non-null  object        \n",
            " 10  customer_state            103887 non-null  object        \n",
            "dtypes: datetime64[ns](1), float64(2), int64(1), object(7)\n",
            "memory usage: 9.5+ MB\n"
          ]
        }
      ],
      "source": [
        "dc.rename(columns={'order_purchase_timestamp': 'order_time'}, inplace = True)\n",
        "dc.info()"
      ]
    },
    {
      "cell_type": "markdown",
      "metadata": {
        "id": "ygOEMo8JWgbR"
      },
      "source": [
        "**Handling Missing Values by Dropping All Missing Values**"
      ]
    },
    {
      "cell_type": "code",
      "execution_count": 16,
      "metadata": {
        "colab": {
          "base_uri": "https://localhost:8080/"
        },
        "id": "zhNvizi_Noqu",
        "outputId": "dd862560-08d4-4991-abad-3b3ce038e3dc"
      },
      "outputs": [
        {
          "data": {
            "text/plain": [
              "(103886, 11)"
            ]
          },
          "execution_count": 16,
          "metadata": {},
          "output_type": "execute_result"
        }
      ],
      "source": [
        "dc = dc.dropna()\n",
        "dc.shape"
      ]
    },
    {
      "cell_type": "markdown",
      "metadata": {
        "id": "yvHNT087XJ87"
      },
      "source": [
        "**Handling Duplicate Values**"
      ]
    },
    {
      "cell_type": "code",
      "execution_count": 17,
      "metadata": {
        "colab": {
          "base_uri": "https://localhost:8080/",
          "height": 661
        },
        "id": "JXETrHU3P4X4",
        "outputId": "3176c541-cac3-47d9-cb4f-8848348848a4"
      },
      "outputs": [
        {
          "data": {
            "text/html": [
              "<div>\n",
              "<style scoped>\n",
              "    .dataframe tbody tr th:only-of-type {\n",
              "        vertical-align: middle;\n",
              "    }\n",
              "\n",
              "    .dataframe tbody tr th {\n",
              "        vertical-align: top;\n",
              "    }\n",
              "\n",
              "    .dataframe thead th {\n",
              "        text-align: right;\n",
              "    }\n",
              "</style>\n",
              "<table border=\"1\" class=\"dataframe\">\n",
              "  <thead>\n",
              "    <tr style=\"text-align: right;\">\n",
              "      <th></th>\n",
              "      <th>order_id</th>\n",
              "      <th>payment_type</th>\n",
              "      <th>payment_installments</th>\n",
              "      <th>payment_value</th>\n",
              "      <th>customer_id</th>\n",
              "      <th>order_status</th>\n",
              "      <th>order_time</th>\n",
              "      <th>customer_unique_id</th>\n",
              "      <th>customer_zip_code_prefix</th>\n",
              "      <th>customer_city</th>\n",
              "      <th>customer_state</th>\n",
              "    </tr>\n",
              "  </thead>\n",
              "  <tbody>\n",
              "    <tr>\n",
              "      <th>128</th>\n",
              "      <td>ea9184ad433a404df1d72fa0a8764232</td>\n",
              "      <td>voucher</td>\n",
              "      <td>1.000</td>\n",
              "      <td>22.490</td>\n",
              "      <td>92f70647283582ec50ca1bb5794f6c90</td>\n",
              "      <td>delivered</td>\n",
              "      <td>2018-08-20 20:10:03</td>\n",
              "      <td>9655822fce78843a1c9fa79e6180346c</td>\n",
              "      <td>85806</td>\n",
              "      <td>cascavel</td>\n",
              "      <td>PR</td>\n",
              "    </tr>\n",
              "    <tr>\n",
              "      <th>129</th>\n",
              "      <td>ea9184ad433a404df1d72fa0a8764232</td>\n",
              "      <td>voucher</td>\n",
              "      <td>1.000</td>\n",
              "      <td>22.490</td>\n",
              "      <td>92f70647283582ec50ca1bb5794f6c90</td>\n",
              "      <td>delivered</td>\n",
              "      <td>2018-08-20 20:10:03</td>\n",
              "      <td>9655822fce78843a1c9fa79e6180346c</td>\n",
              "      <td>85806</td>\n",
              "      <td>cascavel</td>\n",
              "      <td>PR</td>\n",
              "    </tr>\n",
              "    <tr>\n",
              "      <th>197</th>\n",
              "      <td>591083bc42b589c7052118aa83118e76</td>\n",
              "      <td>voucher</td>\n",
              "      <td>1.000</td>\n",
              "      <td>20.000</td>\n",
              "      <td>276df8efcf9602ecddaa00e349eb79b3</td>\n",
              "      <td>delivered</td>\n",
              "      <td>2018-01-02 22:09:17</td>\n",
              "      <td>94bd5dee83e9590368179f4ab026b4f4</td>\n",
              "      <td>95097</td>\n",
              "      <td>caxias do sul</td>\n",
              "      <td>RS</td>\n",
              "    </tr>\n",
              "    <tr>\n",
              "      <th>198</th>\n",
              "      <td>591083bc42b589c7052118aa83118e76</td>\n",
              "      <td>voucher</td>\n",
              "      <td>1.000</td>\n",
              "      <td>20.000</td>\n",
              "      <td>276df8efcf9602ecddaa00e349eb79b3</td>\n",
              "      <td>delivered</td>\n",
              "      <td>2018-01-02 22:09:17</td>\n",
              "      <td>94bd5dee83e9590368179f4ab026b4f4</td>\n",
              "      <td>95097</td>\n",
              "      <td>caxias do sul</td>\n",
              "      <td>RS</td>\n",
              "    </tr>\n",
              "    <tr>\n",
              "      <th>200</th>\n",
              "      <td>591083bc42b589c7052118aa83118e76</td>\n",
              "      <td>voucher</td>\n",
              "      <td>1.000</td>\n",
              "      <td>20.000</td>\n",
              "      <td>276df8efcf9602ecddaa00e349eb79b3</td>\n",
              "      <td>delivered</td>\n",
              "      <td>2018-01-02 22:09:17</td>\n",
              "      <td>94bd5dee83e9590368179f4ab026b4f4</td>\n",
              "      <td>95097</td>\n",
              "      <td>caxias do sul</td>\n",
              "      <td>RS</td>\n",
              "    </tr>\n",
              "    <tr>\n",
              "      <th>...</th>\n",
              "      <td>...</td>\n",
              "      <td>...</td>\n",
              "      <td>...</td>\n",
              "      <td>...</td>\n",
              "      <td>...</td>\n",
              "      <td>...</td>\n",
              "      <td>...</td>\n",
              "      <td>...</td>\n",
              "      <td>...</td>\n",
              "      <td>...</td>\n",
              "      <td>...</td>\n",
              "    </tr>\n",
              "    <tr>\n",
              "      <th>65765</th>\n",
              "      <td>3343cf23583ffaea36e75f03d0893bde</td>\n",
              "      <td>voucher</td>\n",
              "      <td>1.000</td>\n",
              "      <td>50.000</td>\n",
              "      <td>449da50336d9b1e5f45284b5e4647f48</td>\n",
              "      <td>delivered</td>\n",
              "      <td>2017-12-10 11:48:07</td>\n",
              "      <td>d21a5e86eb6ff84f226ee572687e25b3</td>\n",
              "      <td>4777</td>\n",
              "      <td>sao paulo</td>\n",
              "      <td>SP</td>\n",
              "    </tr>\n",
              "    <tr>\n",
              "      <th>72581</th>\n",
              "      <td>401ecf90579c9023a8f503e3a58cfa77</td>\n",
              "      <td>voucher</td>\n",
              "      <td>1.000</td>\n",
              "      <td>20.000</td>\n",
              "      <td>3a67fbf582c0eceb6d18beca1fe47a1b</td>\n",
              "      <td>delivered</td>\n",
              "      <td>2017-10-23 22:15:15</td>\n",
              "      <td>90c205b0bed658a20ba141d2960d6811</td>\n",
              "      <td>89930</td>\n",
              "      <td>sao jose do cedro</td>\n",
              "      <td>SC</td>\n",
              "    </tr>\n",
              "    <tr>\n",
              "      <th>75437</th>\n",
              "      <td>233868ed9e2f9399d292289f27bc2993</td>\n",
              "      <td>voucher</td>\n",
              "      <td>1.000</td>\n",
              "      <td>33.030</td>\n",
              "      <td>70a6da4bfbfe2520b1db2523499c330b</td>\n",
              "      <td>delivered</td>\n",
              "      <td>2017-09-27 04:24:28</td>\n",
              "      <td>c09b86243811785f524f5b2d711f61bb</td>\n",
              "      <td>2998</td>\n",
              "      <td>sao paulo</td>\n",
              "      <td>SP</td>\n",
              "    </tr>\n",
              "    <tr>\n",
              "      <th>80500</th>\n",
              "      <td>b485e99d1c3896c44eb56886216fcd01</td>\n",
              "      <td>voucher</td>\n",
              "      <td>1.000</td>\n",
              "      <td>20.000</td>\n",
              "      <td>5b58f75e65bdec4f6767eb82f2c84e66</td>\n",
              "      <td>delivered</td>\n",
              "      <td>2017-08-04 14:38:32</td>\n",
              "      <td>146265db442ac781517deaa33d1be2d0</td>\n",
              "      <td>20521</td>\n",
              "      <td>rio de janeiro</td>\n",
              "      <td>RJ</td>\n",
              "    </tr>\n",
              "    <tr>\n",
              "      <th>86579</th>\n",
              "      <td>b2f92b2f7047cd8b35580d629d7b3bfb</td>\n",
              "      <td>voucher</td>\n",
              "      <td>1.000</td>\n",
              "      <td>20.000</td>\n",
              "      <td>1cbeb91a58bd89ee2df1bc32f3311209</td>\n",
              "      <td>delivered</td>\n",
              "      <td>2016-10-05 08:04:21</td>\n",
              "      <td>e75b9df782b21f27d61449864774108b</td>\n",
              "      <td>83045</td>\n",
              "      <td>sao jose dos pinhais</td>\n",
              "      <td>PR</td>\n",
              "    </tr>\n",
              "  </tbody>\n",
              "</table>\n",
              "<p>614 rows × 11 columns</p>\n",
              "</div>"
            ],
            "text/plain": [
              "                               order_id payment_type  payment_installments  \\\n",
              "128    ea9184ad433a404df1d72fa0a8764232      voucher                 1.000   \n",
              "129    ea9184ad433a404df1d72fa0a8764232      voucher                 1.000   \n",
              "197    591083bc42b589c7052118aa83118e76      voucher                 1.000   \n",
              "198    591083bc42b589c7052118aa83118e76      voucher                 1.000   \n",
              "200    591083bc42b589c7052118aa83118e76      voucher                 1.000   \n",
              "...                                 ...          ...                   ...   \n",
              "65765  3343cf23583ffaea36e75f03d0893bde      voucher                 1.000   \n",
              "72581  401ecf90579c9023a8f503e3a58cfa77      voucher                 1.000   \n",
              "75437  233868ed9e2f9399d292289f27bc2993      voucher                 1.000   \n",
              "80500  b485e99d1c3896c44eb56886216fcd01      voucher                 1.000   \n",
              "86579  b2f92b2f7047cd8b35580d629d7b3bfb      voucher                 1.000   \n",
              "\n",
              "       payment_value                       customer_id order_status  \\\n",
              "128           22.490  92f70647283582ec50ca1bb5794f6c90    delivered   \n",
              "129           22.490  92f70647283582ec50ca1bb5794f6c90    delivered   \n",
              "197           20.000  276df8efcf9602ecddaa00e349eb79b3    delivered   \n",
              "198           20.000  276df8efcf9602ecddaa00e349eb79b3    delivered   \n",
              "200           20.000  276df8efcf9602ecddaa00e349eb79b3    delivered   \n",
              "...              ...                               ...          ...   \n",
              "65765         50.000  449da50336d9b1e5f45284b5e4647f48    delivered   \n",
              "72581         20.000  3a67fbf582c0eceb6d18beca1fe47a1b    delivered   \n",
              "75437         33.030  70a6da4bfbfe2520b1db2523499c330b    delivered   \n",
              "80500         20.000  5b58f75e65bdec4f6767eb82f2c84e66    delivered   \n",
              "86579         20.000  1cbeb91a58bd89ee2df1bc32f3311209    delivered   \n",
              "\n",
              "               order_time                customer_unique_id  \\\n",
              "128   2018-08-20 20:10:03  9655822fce78843a1c9fa79e6180346c   \n",
              "129   2018-08-20 20:10:03  9655822fce78843a1c9fa79e6180346c   \n",
              "197   2018-01-02 22:09:17  94bd5dee83e9590368179f4ab026b4f4   \n",
              "198   2018-01-02 22:09:17  94bd5dee83e9590368179f4ab026b4f4   \n",
              "200   2018-01-02 22:09:17  94bd5dee83e9590368179f4ab026b4f4   \n",
              "...                   ...                               ...   \n",
              "65765 2017-12-10 11:48:07  d21a5e86eb6ff84f226ee572687e25b3   \n",
              "72581 2017-10-23 22:15:15  90c205b0bed658a20ba141d2960d6811   \n",
              "75437 2017-09-27 04:24:28  c09b86243811785f524f5b2d711f61bb   \n",
              "80500 2017-08-04 14:38:32  146265db442ac781517deaa33d1be2d0   \n",
              "86579 2016-10-05 08:04:21  e75b9df782b21f27d61449864774108b   \n",
              "\n",
              "       customer_zip_code_prefix         customer_city customer_state  \n",
              "128                       85806              cascavel             PR  \n",
              "129                       85806              cascavel             PR  \n",
              "197                       95097         caxias do sul             RS  \n",
              "198                       95097         caxias do sul             RS  \n",
              "200                       95097         caxias do sul             RS  \n",
              "...                         ...                   ...            ...  \n",
              "65765                      4777             sao paulo             SP  \n",
              "72581                     89930     sao jose do cedro             SC  \n",
              "75437                      2998             sao paulo             SP  \n",
              "80500                     20521        rio de janeiro             RJ  \n",
              "86579                     83045  sao jose dos pinhais             PR  \n",
              "\n",
              "[614 rows x 11 columns]"
            ]
          },
          "execution_count": 17,
          "metadata": {},
          "output_type": "execute_result"
        }
      ],
      "source": [
        "dc[dc.duplicated()]"
      ]
    },
    {
      "cell_type": "markdown",
      "metadata": {
        "id": "eaG9TItMXPOm"
      },
      "source": [
        "**Drop Duplicate Values**"
      ]
    },
    {
      "cell_type": "code",
      "execution_count": 18,
      "metadata": {
        "colab": {
          "base_uri": "https://localhost:8080/"
        },
        "id": "c12NrAmd1JvF",
        "outputId": "d4f6f93e-989f-4fd7-b535-88fdba3d6fac"
      },
      "outputs": [
        {
          "data": {
            "text/plain": [
              "(102965, 11)"
            ]
          },
          "execution_count": 18,
          "metadata": {},
          "output_type": "execute_result"
        }
      ],
      "source": [
        "dc = dc.drop_duplicates(keep=False)\n",
        "dc.shape"
      ]
    },
    {
      "cell_type": "markdown",
      "metadata": {
        "id": "drHKSr9gXUGq"
      },
      "source": [
        "**Handling Duplicate Values 2**"
      ]
    },
    {
      "cell_type": "code",
      "execution_count": 19,
      "metadata": {
        "colab": {
          "base_uri": "https://localhost:8080/"
        },
        "id": "qQqnfGUUS_U0",
        "outputId": "217c0043-ef75-439b-ba86-44911cbf6e71"
      },
      "outputs": [
        {
          "data": {
            "text/plain": [
              "(3537, 11)"
            ]
          },
          "execution_count": 19,
          "metadata": {},
          "output_type": "execute_result"
        }
      ],
      "source": [
        "dc[dc['order_id'].duplicated()].shape"
      ]
    },
    {
      "cell_type": "markdown",
      "metadata": {
        "id": "QESQ1PYDXYjR"
      },
      "source": [
        "**Drop Duplicate Values 2**"
      ]
    },
    {
      "cell_type": "code",
      "execution_count": 20,
      "metadata": {
        "colab": {
          "base_uri": "https://localhost:8080/"
        },
        "id": "9B5pg8UMUYdP",
        "outputId": "0b492e5b-8c57-42ec-ee5d-7dd4e1d06367"
      },
      "outputs": [
        {
          "data": {
            "text/plain": [
              "(96650, 11)"
            ]
          },
          "execution_count": 20,
          "metadata": {},
          "output_type": "execute_result"
        }
      ],
      "source": [
        "dc_dup = dc.drop_duplicates(['order_id'], keep=False)\n",
        "dc_dup.shape"
      ]
    },
    {
      "cell_type": "markdown",
      "metadata": {
        "id": "Au32y5ZGXdUC"
      },
      "source": [
        "**Handling Outliers by Checking Both float64 datatype which is 'payment_installments' and 'payment_value' column**"
      ]
    },
    {
      "cell_type": "code",
      "execution_count": 21,
      "metadata": {
        "colab": {
          "base_uri": "https://localhost:8080/",
          "height": 518
        },
        "id": "HLTF-lQBooWq",
        "outputId": "1f12cd7b-8f02-4e1f-8a07-1a6b7e1ecb6c"
      },
      "outputs": [
        {
          "data": {
            "image/png": "[encoded data removed]",
            "text/plain": [
              "<Figure size 640x480 with 1 Axes>"
            ]
          },
          "metadata": {},
          "output_type": "display_data"
        },
        {
          "data": {
            "image/png": "[encoded data removed]",
            "text/plain": [
              "<Figure size 640x480 with 1 Axes>"
            ]
          },
          "metadata": {},
          "output_type": "display_data"
        }
      ],
      "source": [
        "outliers = ['payment_installments','payment_value']\n",
        "\n",
        "for cols in dc[outliers]:\n",
        "  dc.boxplot(column = [cols])\n",
        "  plt.grid(False)\n",
        "  plt.show()"
      ]
    },
    {
      "cell_type": "code",
      "execution_count": 22,
      "metadata": {
        "colab": {
          "base_uri": "https://localhost:8080/",
          "height": 300
        },
        "id": "V8Krv_yazWq7",
        "outputId": "a9ec6b1c-7833-484e-8c2c-e1a8ab9b1b90"
      },
      "outputs": [
        {
          "data": {
            "text/html": [
              "<div>\n",
              "<style scoped>\n",
              "    .dataframe tbody tr th:only-of-type {\n",
              "        vertical-align: middle;\n",
              "    }\n",
              "\n",
              "    .dataframe tbody tr th {\n",
              "        vertical-align: top;\n",
              "    }\n",
              "\n",
              "    .dataframe thead th {\n",
              "        text-align: right;\n",
              "    }\n",
              "</style>\n",
              "<table border=\"1\" class=\"dataframe\">\n",
              "  <thead>\n",
              "    <tr style=\"text-align: right;\">\n",
              "      <th></th>\n",
              "      <th>payment_installments</th>\n",
              "      <th>payment_value</th>\n",
              "    </tr>\n",
              "  </thead>\n",
              "  <tbody>\n",
              "    <tr>\n",
              "      <th>count</th>\n",
              "      <td>102965.000</td>\n",
              "      <td>102965.000</td>\n",
              "    </tr>\n",
              "    <tr>\n",
              "      <th>mean</th>\n",
              "      <td>2.869</td>\n",
              "      <td>155.203</td>\n",
              "    </tr>\n",
              "    <tr>\n",
              "      <th>std</th>\n",
              "      <td>2.693</td>\n",
              "      <td>218.101</td>\n",
              "    </tr>\n",
              "    <tr>\n",
              "      <th>min</th>\n",
              "      <td>0.000</td>\n",
              "      <td>0.000</td>\n",
              "    </tr>\n",
              "    <tr>\n",
              "      <th>25%</th>\n",
              "      <td>1.000</td>\n",
              "      <td>57.680</td>\n",
              "    </tr>\n",
              "    <tr>\n",
              "      <th>50%</th>\n",
              "      <td>1.000</td>\n",
              "      <td>100.650</td>\n",
              "    </tr>\n",
              "    <tr>\n",
              "      <th>75%</th>\n",
              "      <td>4.000</td>\n",
              "      <td>172.700</td>\n",
              "    </tr>\n",
              "    <tr>\n",
              "      <th>max</th>\n",
              "      <td>24.000</td>\n",
              "      <td>13664.080</td>\n",
              "    </tr>\n",
              "  </tbody>\n",
              "</table>\n",
              "</div>"
            ],
            "text/plain": [
              "       payment_installments  payment_value\n",
              "count            102965.000     102965.000\n",
              "mean                  2.869        155.203\n",
              "std                   2.693        218.101\n",
              "min                   0.000          0.000\n",
              "25%                   1.000         57.680\n",
              "50%                   1.000        100.650\n",
              "75%                   4.000        172.700\n",
              "max                  24.000      13664.080"
            ]
          },
          "execution_count": 22,
          "metadata": {},
          "output_type": "execute_result"
        }
      ],
      "source": [
        "dc[outliers].describe()"
      ]
    },
    {
      "cell_type": "markdown",
      "metadata": {
        "id": "cBlklGcHX37j"
      },
      "source": [
        "**Checking which Values are outliers by using Q1 - 1,5 IQR & Q3 + 1,5 IQR**"
      ]
    },
    {
      "cell_type": "code",
      "execution_count": 23,
      "metadata": {
        "colab": {
          "base_uri": "https://localhost:8080/"
        },
        "id": "WTQ63X6vrAmb",
        "outputId": "edeec514-238d-40d5-e5c1-dd9b9f90caef"
      },
      "outputs": [
        {
          "name": "stdout",
          "output_type": "stream",
          "text": [
            "payment_installments outliers is < -3.5, and > 8.5\n",
            "payment_value outliers is < -114.84999999999997, and > 345.22999999999996\n",
            "numbers outliers in columns payment_installments is bottom outliers = 0 and upper outliers = 6311 \n",
            "numbers outliers in columns payment_value is bottom outliers = 0 and upper outliers = 7940 \n"
          ]
        }
      ],
      "source": [
        "def count_outliers(columns_name_with_outliers):\n",
        "    outliers_list = []\n",
        "    for i in columns_name_with_outliers:\n",
        "        low_outliers = dc[i].describe()[4] - 1.5*abs(dc[i].describe()[4] - dc[i].describe()[6])\n",
        "        upper_outliers =  dc[i].describe()[6] + 1.5*abs(dc[i].describe()[4] - dc[i].describe()[6])\n",
        "        print(i + f' outliers is < {low_outliers}, and > {upper_outliers}')\n",
        "        outliers_list.append([i,low_outliers,upper_outliers])\n",
        "    for i in range(len(outliers_list)):\n",
        "        outliers_count_bottom = dc[dc[outliers_list[i][0]] < outliers_list[i][1]][outliers_list[i][0]].count()\n",
        "        outliers_count_upper = dc[dc[outliers_list[i][0]] > outliers_list[i][2]][outliers_list[i][0]].count()\n",
        "        print(f'numbers outliers in columns {outliers_list[i][0]} is bottom outliers = {outliers_count_bottom} and upper outliers = {outliers_count_upper} ')\n",
        "count_outliers(outliers)"
      ]
    },
    {
      "cell_type": "code",
      "execution_count": 24,
      "metadata": {
        "colab": {
          "base_uri": "https://localhost:8080/"
        },
        "id": "25IPAc_V8Lf6",
        "outputId": "d9facc66-6ab6-4bc1-97ee-a8c120574a84"
      },
      "outputs": [
        {
          "data": {
            "text/plain": [
              "7940"
            ]
          },
          "execution_count": 24,
          "metadata": {},
          "output_type": "execute_result"
        }
      ],
      "source": [
        "filter_value_min = dc['payment_value'] < -114.84999999999997 \n",
        "filter_value_max = dc['payment_value'] > 345.22999999999996  \n",
        "\n",
        "dc_outlier = dc[(filter_value_min|filter_value_max)]\n",
        "dc_outlier['payment_value'].count()"
      ]
    },
    {
      "cell_type": "code",
      "execution_count": 25,
      "metadata": {
        "colab": {
          "base_uri": "https://localhost:8080/"
        },
        "id": "g1NH83839vHg",
        "outputId": "4040eab0-8c65-4b31-90f1-786d41ff0fe7"
      },
      "outputs": [
        {
          "data": {
            "text/plain": [
              "0.07711358228524255"
            ]
          },
          "execution_count": 25,
          "metadata": {},
          "output_type": "execute_result"
        }
      ],
      "source": [
        "dc_outlier['payment_value'].count()/dc['payment_value'].count()"
      ]
    },
    {
      "cell_type": "markdown",
      "metadata": {
        "id": "qYmOgkuIZZ8s"
      },
      "source": [
        "7,7 % payment_value that have outliers >> can't ignore\n",
        "<p> so we'll drop that values"
      ]
    },
    {
      "cell_type": "code",
      "execution_count": 26,
      "metadata": {
        "colab": {
          "base_uri": "https://localhost:8080/"
        },
        "id": "ZV75tISI-sHj",
        "outputId": "54d10cdd-a4ef-42e0-fcc3-5b73369eaa1c"
      },
      "outputs": [
        {
          "data": {
            "text/plain": [
              "(95025, 11)"
            ]
          },
          "execution_count": 26,
          "metadata": {},
          "output_type": "execute_result"
        }
      ],
      "source": [
        "dc = dc[~((dc['payment_value'] < -114.84999999999997) | (dc['payment_value'] > 345.22999999999996))]\n",
        "dc.shape"
      ]
    },
    {
      "cell_type": "code",
      "execution_count": 27,
      "metadata": {
        "colab": {
          "base_uri": "https://localhost:8080/"
        },
        "id": "ALHKXpOq_2D2",
        "outputId": "44425877-3d1b-433e-9a23-1063a9a62dce"
      },
      "outputs": [
        {
          "data": {
            "text/plain": [
              "4240"
            ]
          },
          "execution_count": 27,
          "metadata": {},
          "output_type": "execute_result"
        }
      ],
      "source": [
        "filter_insta_min = dc['payment_installments'] < -3.5 \n",
        "filter_insta_max = dc['payment_installments'] > 8.5 \n",
        "\n",
        "dc_outlier = dc[(filter_insta_min|filter_insta_max)]\n",
        "dc_outlier['payment_installments'].count()"
      ]
    },
    {
      "cell_type": "code",
      "execution_count": 28,
      "metadata": {
        "colab": {
          "base_uri": "https://localhost:8080/"
        },
        "id": "zm_V4tx59u6o",
        "outputId": "12a5e3f1-a3ba-426a-b4f8-fd1dcb1eac5b"
      },
      "outputs": [
        {
          "data": {
            "text/plain": [
              "0.044619836885030253"
            ]
          },
          "execution_count": 28,
          "metadata": {},
          "output_type": "execute_result"
        }
      ],
      "source": [
        "dc_outlier['payment_installments'].count()/dc['payment_installments'].count()"
      ]
    },
    {
      "cell_type": "markdown",
      "metadata": {
        "id": "HbMQKceIZ1cA"
      },
      "source": [
        "4,4 % payment_installments that have outliers >> can't ignore\n",
        "<p> so we'll drop that values"
      ]
    },
    {
      "cell_type": "code",
      "execution_count": 29,
      "metadata": {
        "colab": {
          "base_uri": "https://localhost:8080/"
        },
        "id": "NvHvALYyAQhj",
        "outputId": "adafbc6b-99fd-4533-c924-6d9aa40e5552"
      },
      "outputs": [
        {
          "data": {
            "text/plain": [
              "(90785, 11)"
            ]
          },
          "execution_count": 29,
          "metadata": {},
          "output_type": "execute_result"
        }
      ],
      "source": [
        "dc = dc[~((dc['payment_installments'] < -3.5) | (dc['payment_installments'] > 8.5))]\n",
        "dc.shape"
      ]
    },
    {
      "cell_type": "markdown",
      "metadata": {
        "id": "dAeTrO_Ubz88"
      },
      "source": [
        "# **EDA**\n",
        "**Descriptive Statistics**"
      ]
    },
    {
      "cell_type": "code",
      "execution_count": 30,
      "metadata": {
        "id": "aNMJurBfPcHG"
      },
      "outputs": [],
      "source": [
        "from scipy import stats\n",
        "\n",
        "def describe(df, statis):\n",
        "  d = df.describe()\n",
        "  if 'mode' in statis:\n",
        "    statis.remove('mode')\n",
        "    d = d.append(df.agg(statis))\n",
        "    d = d.append(df.agg(lambda x: stats.mode(x)[0]))\n",
        "  else: \n",
        "    d = d.append(df.agg(statis))\n",
        "  return d"
      ]
    },
    {
      "cell_type": "code",
      "execution_count": 31,
      "metadata": {
        "colab": {
          "base_uri": "https://localhost:8080/"
        },
        "id": "o-5DquD-qO1H",
        "outputId": "1502232a-033b-4dca-da00-16d26f275d56"
      },
      "outputs": [],
      "source": [
        "exclude = dc.drop(columns=['order_time','customer_zip_code_prefix','order_id'],axis=1)\n",
        "num_features = exclude.select_dtypes(exclude=[object]).columns\n",
        "cat_features = exclude.select_dtypes(include=[object]).columns"
      ]
    },
    {
      "cell_type": "code",
      "execution_count": 32,
      "metadata": {
        "colab": {
          "base_uri": "https://localhost:8080/",
          "height": 426
        },
        "id": "OmGvGnAFqSSi",
        "outputId": "f0dbe3ac-e228-457d-9ef0-31077e03e818"
      },
      "outputs": [
        {
          "name": "stderr",
          "output_type": "stream",
          "text": [
            "C:\\Users\\Aditya Manggala Gita\\AppData\\Local\\Temp\\ipykernel_11896\\3478563321.py:7: FutureWarning: The frame.append method is deprecated and will be removed from pandas in a future version. Use pandas.concat instead.\n",
            "  d = d.append(df.agg(statis))\n",
            "C:\\Users\\Aditya Manggala Gita\\AppData\\Local\\Temp\\ipykernel_11896\\3478563321.py:8: FutureWarning: Unlike other reduction functions (e.g. `skew`, `kurtosis`), the default behavior of `mode` typically preserves the axis it acts along. In SciPy 1.11.0, this behavior will change: the default value of `keepdims` will become False, the `axis` over which the statistic is taken will be eliminated, and the value None will no longer be accepted. Set `keepdims` to True or False to avoid this warning.\n",
            "  d = d.append(df.agg(lambda x: stats.mode(x)[0]))\n",
            "C:\\Users\\Aditya Manggala Gita\\AppData\\Local\\Temp\\ipykernel_11896\\3478563321.py:8: FutureWarning: The frame.append method is deprecated and will be removed from pandas in a future version. Use pandas.concat instead.\n",
            "  d = d.append(df.agg(lambda x: stats.mode(x)[0]))\n"
          ]
        },
        {
          "data": {
            "text/html": [
              "<div>\n",
              "<style scoped>\n",
              "    .dataframe tbody tr th:only-of-type {\n",
              "        vertical-align: middle;\n",
              "    }\n",
              "\n",
              "    .dataframe tbody tr th {\n",
              "        vertical-align: top;\n",
              "    }\n",
              "\n",
              "    .dataframe thead th {\n",
              "        text-align: right;\n",
              "    }\n",
              "</style>\n",
              "<table border=\"1\" class=\"dataframe\">\n",
              "  <thead>\n",
              "    <tr style=\"text-align: right;\">\n",
              "      <th></th>\n",
              "      <th>payment_installments</th>\n",
              "      <th>payment_value</th>\n",
              "    </tr>\n",
              "  </thead>\n",
              "  <tbody>\n",
              "    <tr>\n",
              "      <th>count</th>\n",
              "      <td>90785.000</td>\n",
              "      <td>90785.000</td>\n",
              "    </tr>\n",
              "    <tr>\n",
              "      <th>mean</th>\n",
              "      <td>2.297</td>\n",
              "      <td>107.608</td>\n",
              "    </tr>\n",
              "    <tr>\n",
              "      <th>std</th>\n",
              "      <td>1.883</td>\n",
              "      <td>71.246</td>\n",
              "    </tr>\n",
              "    <tr>\n",
              "      <th>min</th>\n",
              "      <td>0.000</td>\n",
              "      <td>0.000</td>\n",
              "    </tr>\n",
              "    <tr>\n",
              "      <th>25%</th>\n",
              "      <td>1.000</td>\n",
              "      <td>53.300</td>\n",
              "    </tr>\n",
              "    <tr>\n",
              "      <th>50%</th>\n",
              "      <td>1.000</td>\n",
              "      <td>88.560</td>\n",
              "    </tr>\n",
              "    <tr>\n",
              "      <th>75%</th>\n",
              "      <td>3.000</td>\n",
              "      <td>146.580</td>\n",
              "    </tr>\n",
              "    <tr>\n",
              "      <th>max</th>\n",
              "      <td>8.000</td>\n",
              "      <td>345.190</td>\n",
              "    </tr>\n",
              "    <tr>\n",
              "      <th>skew</th>\n",
              "      <td>1.514</td>\n",
              "      <td>1.061</td>\n",
              "    </tr>\n",
              "    <tr>\n",
              "      <th>kurt</th>\n",
              "      <td>1.450</td>\n",
              "      <td>0.684</td>\n",
              "    </tr>\n",
              "    <tr>\n",
              "      <th>var</th>\n",
              "      <td>3.547</td>\n",
              "      <td>5075.962</td>\n",
              "    </tr>\n",
              "    <tr>\n",
              "      <th>0</th>\n",
              "      <td>1.000</td>\n",
              "      <td>50.000</td>\n",
              "    </tr>\n",
              "  </tbody>\n",
              "</table>\n",
              "</div>"
            ],
            "text/plain": [
              "       payment_installments  payment_value\n",
              "count             90785.000      90785.000\n",
              "mean                  2.297        107.608\n",
              "std                   1.883         71.246\n",
              "min                   0.000          0.000\n",
              "25%                   1.000         53.300\n",
              "50%                   1.000         88.560\n",
              "75%                   3.000        146.580\n",
              "max                   8.000        345.190\n",
              "skew                  1.514          1.061\n",
              "kurt                  1.450          0.684\n",
              "var                   3.547       5075.962\n",
              "0                     1.000         50.000"
            ]
          },
          "execution_count": 32,
          "metadata": {},
          "output_type": "execute_result"
        }
      ],
      "source": [
        "describe(dc[num_features], ['skew','kurt','mode','var'])"
      ]
    },
    {
      "cell_type": "code",
      "execution_count": 33,
      "metadata": {
        "colab": {
          "base_uri": "https://localhost:8080/"
        },
        "id": "m0Roj1b3dHql",
        "outputId": "72cd2564-7dfc-4dca-b797-31586ae25973"
      },
      "outputs": [
        {
          "name": "stdout",
          "output_type": "stream",
          "text": [
            "coefficient of variation payment_installments is 0.8199829482249312 \n",
            "coefficient of variation payment_value is 0.6620820270522069 \n",
            "range payment_installments is 8.0 \n",
            "range payment_value is 345.19 \n"
          ]
        }
      ],
      "source": [
        "from scipy.stats import variation\n",
        "for i in range(len(num_features)):\n",
        "  cv = variation(dc[num_features[i]], axis = 0)\n",
        "  print(f'coefficient of variation {num_features[i]} is {cv} ')\n",
        "\n",
        "for i in range(len(num_features)):\n",
        "  diff = dc[num_features[i]].describe()[7] - df[num_features[i]].describe()[3]\n",
        "  print(f'range {num_features[i]} is {diff} ')"
      ]
    },
    {
      "cell_type": "markdown",
      "metadata": {
        "id": "r0IG4E5rgn0V"
      },
      "source": [
        "**Insights of Descriptive Statistics**\n",
        "1.   payment_installments has mean (2.297) > median (1) with min value is 0 and max value is 8, so we can say that payment_installments has positive skewed and because skew value (1.514) is greater than 1, the data are extremely skewed.\n",
        "2.  payment_value has mean (107.608) > median (88.560) with min value is 0 and max value is 345.190, so we can say that payment_installments has positive skewed and because skew value (1.061) is greater than 1, the data are extremely skewed but less extreme than data in payment_installments\n",
        "\n"
      ]
    },
    {
      "cell_type": "markdown",
      "metadata": {
        "id": "kYoOomcaLDv_"
      },
      "source": [
        "# **Number of Orders per Month**"
      ]
    },
    {
      "cell_type": "code",
      "execution_count": 34,
      "metadata": {
        "colab": {
          "base_uri": "https://localhost:8080/"
        },
        "id": "LDk3qa31MScA",
        "outputId": "f038a796-c4ed-40ea-ebfd-bc7cc2dbd9fe"
      },
      "outputs": [
        {
          "name": "stdout",
          "output_type": "stream",
          "text": [
            "<class 'pandas.core.frame.DataFrame'>\n",
            "Int64Index: 103887 entries, 0 to 103886\n",
            "Data columns (total 16 columns):\n",
            " #   Column                         Non-Null Count   Dtype         \n",
            "---  ------                         --------------   -----         \n",
            " 0   order_id                       103886 non-null  object        \n",
            " 1   payment_sequential             103886 non-null  float64       \n",
            " 2   payment_type                   103886 non-null  object        \n",
            " 3   payment_installments           103886 non-null  float64       \n",
            " 4   payment_value                  103886 non-null  float64       \n",
            " 5   customer_id                    103887 non-null  object        \n",
            " 6   order_status                   103886 non-null  object        \n",
            " 7   order_purchase_timestamp       103886 non-null  datetime64[ns]\n",
            " 8   order_approved_at              103711 non-null  datetime64[ns]\n",
            " 9   order_delivered_carrier_date   101998 non-null  datetime64[ns]\n",
            " 10  order_delivered_customer_date  100754 non-null  datetime64[ns]\n",
            " 11  order_estimated_delivery_date  103886 non-null  datetime64[ns]\n",
            " 12  customer_unique_id             103887 non-null  object        \n",
            " 13  customer_zip_code_prefix       103887 non-null  int64         \n",
            " 14  customer_city                  103887 non-null  object        \n",
            " 15  customer_state                 103887 non-null  object        \n",
            "dtypes: datetime64[ns](5), float64(3), int64(1), object(7)\n",
            "memory usage: 13.5+ MB\n"
          ]
        }
      ],
      "source": [
        "q = df.copy()\n",
        "q.info()"
      ]
    },
    {
      "cell_type": "code",
      "execution_count": 35,
      "metadata": {
        "colab": {
          "base_uri": "https://localhost:8080/"
        },
        "id": "M6Tjk0JmNg9o",
        "outputId": "976a828e-2b9d-4f65-bdff-42a454cf3831"
      },
      "outputs": [
        {
          "name": "stdout",
          "output_type": "stream",
          "text": [
            "<class 'pandas.core.frame.DataFrame'>\n",
            "Int64Index: 103887 entries, 0 to 103886\n",
            "Data columns (total 11 columns):\n",
            " #   Column                    Non-Null Count   Dtype         \n",
            "---  ------                    --------------   -----         \n",
            " 0   order_id                  103886 non-null  object        \n",
            " 1   payment_type              103886 non-null  object        \n",
            " 2   payment_installments      103886 non-null  float64       \n",
            " 3   payment_value             103886 non-null  float64       \n",
            " 4   customer_id               103887 non-null  object        \n",
            " 5   order_status              103886 non-null  object        \n",
            " 6   order_purchase_timestamp  103886 non-null  datetime64[ns]\n",
            " 7   customer_unique_id        103887 non-null  object        \n",
            " 8   customer_zip_code_prefix  103887 non-null  int64         \n",
            " 9   customer_city             103887 non-null  object        \n",
            " 10  customer_state            103887 non-null  object        \n",
            "dtypes: datetime64[ns](1), float64(2), int64(1), object(7)\n",
            "memory usage: 9.5+ MB\n"
          ]
        }
      ],
      "source": [
        "drop_col = ['payment_sequential','order_approved_at','order_delivered_carrier_date','order_delivered_customer_date','order_estimated_delivery_date']\n",
        "q = q.drop(columns = drop_col)\n",
        "q.info()"
      ]
    },
    {
      "cell_type": "code",
      "execution_count": 36,
      "metadata": {
        "colab": {
          "base_uri": "https://localhost:8080/"
        },
        "id": "RSQ7AWs3Onu5",
        "outputId": "c793a192-b215-4b81-9c34-dceff2d067a7"
      },
      "outputs": [
        {
          "data": {
            "text/plain": [
              "614"
            ]
          },
          "execution_count": 36,
          "metadata": {},
          "output_type": "execute_result"
        }
      ],
      "source": [
        "q.duplicated().sum()"
      ]
    },
    {
      "cell_type": "code",
      "execution_count": 37,
      "metadata": {
        "colab": {
          "base_uri": "https://localhost:8080/"
        },
        "id": "KECzv1EwOxdc",
        "outputId": "c4f31597-1753-4267-da91-34798eb25eb7"
      },
      "outputs": [
        {
          "data": {
            "text/plain": [
              "0"
            ]
          },
          "execution_count": 37,
          "metadata": {},
          "output_type": "execute_result"
        }
      ],
      "source": [
        "q.drop_duplicates(keep = 'first', inplace = True)\n",
        "q.duplicated().sum()"
      ]
    },
    {
      "cell_type": "code",
      "execution_count": 38,
      "metadata": {
        "colab": {
          "base_uri": "https://localhost:8080/"
        },
        "id": "FXcF1kiCXzJR",
        "outputId": "40e2f948-2636-40a6-ccbf-9a442afb0ab0"
      },
      "outputs": [
        {
          "data": {
            "text/plain": [
              "order_id                    1\n",
              "payment_type                1\n",
              "payment_installments        1\n",
              "payment_value               1\n",
              "customer_id                 0\n",
              "order_status                1\n",
              "order_purchase_timestamp    1\n",
              "customer_unique_id          0\n",
              "customer_zip_code_prefix    0\n",
              "customer_city               0\n",
              "customer_state              0\n",
              "dtype: int64"
            ]
          },
          "execution_count": 38,
          "metadata": {},
          "output_type": "execute_result"
        }
      ],
      "source": [
        "q.isna().sum()"
      ]
    },
    {
      "cell_type": "code",
      "execution_count": 39,
      "metadata": {
        "id": "psuZEnirVt1s"
      },
      "outputs": [],
      "source": [
        "q = q.dropna()"
      ]
    },
    {
      "cell_type": "code",
      "execution_count": 40,
      "metadata": {
        "colab": {
          "base_uri": "https://localhost:8080/"
        },
        "id": "HA9Lx3NzPR_a",
        "outputId": "45518714-8314-4891-d084-c51b986fa538"
      },
      "outputs": [
        {
          "name": "stdout",
          "output_type": "stream",
          "text": [
            "<class 'pandas.core.frame.DataFrame'>\n",
            "Int64Index: 103272 entries, 0 to 103885\n",
            "Data columns (total 16 columns):\n",
            " #   Column                    Non-Null Count   Dtype         \n",
            "---  ------                    --------------   -----         \n",
            " 0   order_id                  103272 non-null  object        \n",
            " 1   payment_type              103272 non-null  object        \n",
            " 2   payment_installments      103272 non-null  float64       \n",
            " 3   payment_value             103272 non-null  float64       \n",
            " 4   customer_id               103272 non-null  object        \n",
            " 5   order_status              103272 non-null  object        \n",
            " 6   order_purchase_timestamp  103272 non-null  datetime64[ns]\n",
            " 7   customer_unique_id        103272 non-null  object        \n",
            " 8   customer_zip_code_prefix  103272 non-null  int64         \n",
            " 9   customer_city             103272 non-null  object        \n",
            " 10  customer_state            103272 non-null  object        \n",
            " 11  year                      103272 non-null  int64         \n",
            " 12  month                     103272 non-null  object        \n",
            " 13  date                      103272 non-null  int64         \n",
            " 14  day                       103272 non-null  object        \n",
            " 15  hour                      103272 non-null  int64         \n",
            "dtypes: datetime64[ns](1), float64(2), int64(4), object(9)\n",
            "memory usage: 13.4+ MB\n"
          ]
        }
      ],
      "source": [
        "q['year'] = q['order_purchase_timestamp'].dt.year\n",
        "q['month'] = q['order_purchase_timestamp'].dt.strftime('%b')\n",
        "q['date'] = q['order_purchase_timestamp'].dt.day\n",
        "q['day'] = q['order_purchase_timestamp'].dt.strftime('%a')\n",
        "q['hour'] = q['order_purchase_timestamp'].dt.hour\n",
        "q.info()"
      ]
    },
    {
      "cell_type": "code",
      "execution_count": 41,
      "metadata": {
        "colab": {
          "base_uri": "https://localhost:8080/",
          "height": 270
        },
        "id": "cXzjBfuaejt_",
        "outputId": "42e09e97-f9fe-4cbc-c024-ce5f28fa21ad"
      },
      "outputs": [
        {
          "data": {
            "text/html": [
              "<div>\n",
              "<style scoped>\n",
              "    .dataframe tbody tr th:only-of-type {\n",
              "        vertical-align: middle;\n",
              "    }\n",
              "\n",
              "    .dataframe tbody tr th {\n",
              "        vertical-align: top;\n",
              "    }\n",
              "\n",
              "    .dataframe thead th {\n",
              "        text-align: right;\n",
              "    }\n",
              "</style>\n",
              "<table border=\"1\" class=\"dataframe\">\n",
              "  <thead>\n",
              "    <tr style=\"text-align: right;\">\n",
              "      <th></th>\n",
              "      <th>order_id</th>\n",
              "      <th>payment_type</th>\n",
              "      <th>payment_installments</th>\n",
              "      <th>payment_value</th>\n",
              "      <th>customer_id</th>\n",
              "      <th>order_status</th>\n",
              "      <th>order_purchase_timestamp</th>\n",
              "      <th>customer_unique_id</th>\n",
              "      <th>customer_zip_code_prefix</th>\n",
              "      <th>customer_city</th>\n",
              "      <th>customer_state</th>\n",
              "      <th>year</th>\n",
              "      <th>month</th>\n",
              "      <th>date</th>\n",
              "      <th>day</th>\n",
              "      <th>hour</th>\n",
              "    </tr>\n",
              "  </thead>\n",
              "  <tbody>\n",
              "    <tr>\n",
              "      <th>0</th>\n",
              "      <td>b81ef226f3fe1789b1e8b2acac839d17</td>\n",
              "      <td>credit_card</td>\n",
              "      <td>8.000</td>\n",
              "      <td>99.330</td>\n",
              "      <td>0a8556ac6be836b46b3e89920d59291c</td>\n",
              "      <td>delivered</td>\n",
              "      <td>2018-04-25 22:01:49</td>\n",
              "      <td>708ab75d2a007f0564aedd11139c7708</td>\n",
              "      <td>39801</td>\n",
              "      <td>teofilo otoni</td>\n",
              "      <td>MG</td>\n",
              "      <td>2018</td>\n",
              "      <td>Apr</td>\n",
              "      <td>25</td>\n",
              "      <td>Wed</td>\n",
              "      <td>22</td>\n",
              "    </tr>\n",
              "    <tr>\n",
              "      <th>1</th>\n",
              "      <td>a9810da82917af2d9aefd1278f1dcfa0</td>\n",
              "      <td>credit_card</td>\n",
              "      <td>1.000</td>\n",
              "      <td>24.390</td>\n",
              "      <td>f2c7fc58a9de810828715166c672f10a</td>\n",
              "      <td>delivered</td>\n",
              "      <td>2018-06-26 11:01:38</td>\n",
              "      <td>a8b9d3a27068454b1c98cc67d4e31e6f</td>\n",
              "      <td>2422</td>\n",
              "      <td>sao paulo</td>\n",
              "      <td>SP</td>\n",
              "      <td>2018</td>\n",
              "      <td>Jun</td>\n",
              "      <td>26</td>\n",
              "      <td>Tue</td>\n",
              "      <td>11</td>\n",
              "    </tr>\n",
              "    <tr>\n",
              "      <th>2</th>\n",
              "      <td>25e8ea4e93396b6fa0d3dd708e76c1bd</td>\n",
              "      <td>credit_card</td>\n",
              "      <td>1.000</td>\n",
              "      <td>65.710</td>\n",
              "      <td>25b14b69de0b6e184ae6fe2755e478f9</td>\n",
              "      <td>delivered</td>\n",
              "      <td>2017-12-12 11:19:55</td>\n",
              "      <td>6f70c0b2f7552832ba46eb57b1c5651e</td>\n",
              "      <td>2652</td>\n",
              "      <td>sao paulo</td>\n",
              "      <td>SP</td>\n",
              "      <td>2017</td>\n",
              "      <td>Dec</td>\n",
              "      <td>12</td>\n",
              "      <td>Tue</td>\n",
              "      <td>11</td>\n",
              "    </tr>\n",
              "    <tr>\n",
              "      <th>3</th>\n",
              "      <td>ba78997921bbcdc1373bb41e913ab953</td>\n",
              "      <td>credit_card</td>\n",
              "      <td>8.000</td>\n",
              "      <td>107.780</td>\n",
              "      <td>7a5d8efaaa1081f800628c30d2b0728f</td>\n",
              "      <td>delivered</td>\n",
              "      <td>2017-12-06 12:04:06</td>\n",
              "      <td>87695ed086ebd36f20404c82d20fca87</td>\n",
              "      <td>36060</td>\n",
              "      <td>juiz de fora</td>\n",
              "      <td>MG</td>\n",
              "      <td>2017</td>\n",
              "      <td>Dec</td>\n",
              "      <td>6</td>\n",
              "      <td>Wed</td>\n",
              "      <td>12</td>\n",
              "    </tr>\n",
              "    <tr>\n",
              "      <th>4</th>\n",
              "      <td>42fdf880ba16b47b59251dd489d4441a</td>\n",
              "      <td>credit_card</td>\n",
              "      <td>2.000</td>\n",
              "      <td>128.450</td>\n",
              "      <td>15fd6fb8f8312dbb4674e4518d6fa3b3</td>\n",
              "      <td>delivered</td>\n",
              "      <td>2018-05-21 13:59:17</td>\n",
              "      <td>4291db0da71914754618cd789aebcd56</td>\n",
              "      <td>18570</td>\n",
              "      <td>conchas</td>\n",
              "      <td>SP</td>\n",
              "      <td>2018</td>\n",
              "      <td>May</td>\n",
              "      <td>21</td>\n",
              "      <td>Mon</td>\n",
              "      <td>13</td>\n",
              "    </tr>\n",
              "  </tbody>\n",
              "</table>\n",
              "</div>"
            ],
            "text/plain": [
              "                           order_id payment_type  payment_installments  \\\n",
              "0  b81ef226f3fe1789b1e8b2acac839d17  credit_card                 8.000   \n",
              "1  a9810da82917af2d9aefd1278f1dcfa0  credit_card                 1.000   \n",
              "2  25e8ea4e93396b6fa0d3dd708e76c1bd  credit_card                 1.000   \n",
              "3  ba78997921bbcdc1373bb41e913ab953  credit_card                 8.000   \n",
              "4  42fdf880ba16b47b59251dd489d4441a  credit_card                 2.000   \n",
              "\n",
              "   payment_value                       customer_id order_status  \\\n",
              "0         99.330  0a8556ac6be836b46b3e89920d59291c    delivered   \n",
              "1         24.390  f2c7fc58a9de810828715166c672f10a    delivered   \n",
              "2         65.710  25b14b69de0b6e184ae6fe2755e478f9    delivered   \n",
              "3        107.780  7a5d8efaaa1081f800628c30d2b0728f    delivered   \n",
              "4        128.450  15fd6fb8f8312dbb4674e4518d6fa3b3    delivered   \n",
              "\n",
              "  order_purchase_timestamp                customer_unique_id  \\\n",
              "0      2018-04-25 22:01:49  708ab75d2a007f0564aedd11139c7708   \n",
              "1      2018-06-26 11:01:38  a8b9d3a27068454b1c98cc67d4e31e6f   \n",
              "2      2017-12-12 11:19:55  6f70c0b2f7552832ba46eb57b1c5651e   \n",
              "3      2017-12-06 12:04:06  87695ed086ebd36f20404c82d20fca87   \n",
              "4      2018-05-21 13:59:17  4291db0da71914754618cd789aebcd56   \n",
              "\n",
              "   customer_zip_code_prefix  customer_city customer_state  year month  date  \\\n",
              "0                     39801  teofilo otoni             MG  2018   Apr    25   \n",
              "1                      2422      sao paulo             SP  2018   Jun    26   \n",
              "2                      2652      sao paulo             SP  2017   Dec    12   \n",
              "3                     36060   juiz de fora             MG  2017   Dec     6   \n",
              "4                     18570        conchas             SP  2018   May    21   \n",
              "\n",
              "   day  hour  \n",
              "0  Wed    22  \n",
              "1  Tue    11  \n",
              "2  Tue    11  \n",
              "3  Wed    12  \n",
              "4  Mon    13  "
            ]
          },
          "execution_count": 41,
          "metadata": {},
          "output_type": "execute_result"
        }
      ],
      "source": [
        "q.head()"
      ]
    },
    {
      "cell_type": "code",
      "execution_count": 42,
      "metadata": {
        "colab": {
          "base_uri": "https://localhost:8080/",
          "height": 833
        },
        "id": "H_ENUNu9etqO",
        "outputId": "b63b9693-fdb5-441b-dbcf-9548c38dded9"
      },
      "outputs": [
        {
          "data": {
            "text/html": [
              "<div>\n",
              "<style scoped>\n",
              "    .dataframe tbody tr th:only-of-type {\n",
              "        vertical-align: middle;\n",
              "    }\n",
              "\n",
              "    .dataframe tbody tr th {\n",
              "        vertical-align: top;\n",
              "    }\n",
              "\n",
              "    .dataframe thead th {\n",
              "        text-align: right;\n",
              "    }\n",
              "</style>\n",
              "<table border=\"1\" class=\"dataframe\">\n",
              "  <thead>\n",
              "    <tr style=\"text-align: right;\">\n",
              "      <th></th>\n",
              "      <th>year</th>\n",
              "      <th>month</th>\n",
              "      <th>count</th>\n",
              "    </tr>\n",
              "  </thead>\n",
              "  <tbody>\n",
              "    <tr>\n",
              "      <th>0</th>\n",
              "      <td>2016</td>\n",
              "      <td>Dec</td>\n",
              "      <td>1</td>\n",
              "    </tr>\n",
              "    <tr>\n",
              "      <th>1</th>\n",
              "      <td>2016</td>\n",
              "      <td>Oct</td>\n",
              "      <td>324</td>\n",
              "    </tr>\n",
              "    <tr>\n",
              "      <th>2</th>\n",
              "      <td>2016</td>\n",
              "      <td>Sep</td>\n",
              "      <td>3</td>\n",
              "    </tr>\n",
              "    <tr>\n",
              "      <th>3</th>\n",
              "      <td>2017</td>\n",
              "      <td>Apr</td>\n",
              "      <td>2404</td>\n",
              "    </tr>\n",
              "    <tr>\n",
              "      <th>4</th>\n",
              "      <td>2017</td>\n",
              "      <td>Aug</td>\n",
              "      <td>4331</td>\n",
              "    </tr>\n",
              "    <tr>\n",
              "      <th>5</th>\n",
              "      <td>2017</td>\n",
              "      <td>Dec</td>\n",
              "      <td>5673</td>\n",
              "    </tr>\n",
              "    <tr>\n",
              "      <th>6</th>\n",
              "      <td>2017</td>\n",
              "      <td>Feb</td>\n",
              "      <td>1780</td>\n",
              "    </tr>\n",
              "    <tr>\n",
              "      <th>7</th>\n",
              "      <td>2017</td>\n",
              "      <td>Jan</td>\n",
              "      <td>800</td>\n",
              "    </tr>\n",
              "    <tr>\n",
              "      <th>8</th>\n",
              "      <td>2017</td>\n",
              "      <td>Jul</td>\n",
              "      <td>4026</td>\n",
              "    </tr>\n",
              "    <tr>\n",
              "      <th>9</th>\n",
              "      <td>2017</td>\n",
              "      <td>Jun</td>\n",
              "      <td>3245</td>\n",
              "    </tr>\n",
              "    <tr>\n",
              "      <th>10</th>\n",
              "      <td>2017</td>\n",
              "      <td>Mar</td>\n",
              "      <td>2682</td>\n",
              "    </tr>\n",
              "    <tr>\n",
              "      <th>11</th>\n",
              "      <td>2017</td>\n",
              "      <td>May</td>\n",
              "      <td>3700</td>\n",
              "    </tr>\n",
              "    <tr>\n",
              "      <th>12</th>\n",
              "      <td>2017</td>\n",
              "      <td>Nov</td>\n",
              "      <td>7544</td>\n",
              "    </tr>\n",
              "    <tr>\n",
              "      <th>13</th>\n",
              "      <td>2017</td>\n",
              "      <td>Oct</td>\n",
              "      <td>4631</td>\n",
              "    </tr>\n",
              "    <tr>\n",
              "      <th>14</th>\n",
              "      <td>2017</td>\n",
              "      <td>Sep</td>\n",
              "      <td>4285</td>\n",
              "    </tr>\n",
              "    <tr>\n",
              "      <th>15</th>\n",
              "      <td>2018</td>\n",
              "      <td>Apr</td>\n",
              "      <td>6939</td>\n",
              "    </tr>\n",
              "    <tr>\n",
              "      <th>16</th>\n",
              "      <td>2018</td>\n",
              "      <td>Aug</td>\n",
              "      <td>6512</td>\n",
              "    </tr>\n",
              "    <tr>\n",
              "      <th>17</th>\n",
              "      <td>2018</td>\n",
              "      <td>Feb</td>\n",
              "      <td>6728</td>\n",
              "    </tr>\n",
              "    <tr>\n",
              "      <th>18</th>\n",
              "      <td>2018</td>\n",
              "      <td>Jan</td>\n",
              "      <td>7269</td>\n",
              "    </tr>\n",
              "    <tr>\n",
              "      <th>19</th>\n",
              "      <td>2018</td>\n",
              "      <td>Jul</td>\n",
              "      <td>6292</td>\n",
              "    </tr>\n",
              "    <tr>\n",
              "      <th>20</th>\n",
              "      <td>2018</td>\n",
              "      <td>Jun</td>\n",
              "      <td>6167</td>\n",
              "    </tr>\n",
              "    <tr>\n",
              "      <th>21</th>\n",
              "      <td>2018</td>\n",
              "      <td>Mar</td>\n",
              "      <td>7211</td>\n",
              "    </tr>\n",
              "    <tr>\n",
              "      <th>22</th>\n",
              "      <td>2018</td>\n",
              "      <td>May</td>\n",
              "      <td>6873</td>\n",
              "    </tr>\n",
              "    <tr>\n",
              "      <th>23</th>\n",
              "      <td>2018</td>\n",
              "      <td>Oct</td>\n",
              "      <td>4</td>\n",
              "    </tr>\n",
              "    <tr>\n",
              "      <th>24</th>\n",
              "      <td>2018</td>\n",
              "      <td>Sep</td>\n",
              "      <td>16</td>\n",
              "    </tr>\n",
              "  </tbody>\n",
              "</table>\n",
              "</div>"
            ],
            "text/plain": [
              "    year month  count\n",
              "0   2016   Dec      1\n",
              "1   2016   Oct    324\n",
              "2   2016   Sep      3\n",
              "3   2017   Apr   2404\n",
              "4   2017   Aug   4331\n",
              "5   2017   Dec   5673\n",
              "6   2017   Feb   1780\n",
              "7   2017   Jan    800\n",
              "8   2017   Jul   4026\n",
              "9   2017   Jun   3245\n",
              "10  2017   Mar   2682\n",
              "11  2017   May   3700\n",
              "12  2017   Nov   7544\n",
              "13  2017   Oct   4631\n",
              "14  2017   Sep   4285\n",
              "15  2018   Apr   6939\n",
              "16  2018   Aug   6512\n",
              "17  2018   Feb   6728\n",
              "18  2018   Jan   7269\n",
              "19  2018   Jul   6292\n",
              "20  2018   Jun   6167\n",
              "21  2018   Mar   7211\n",
              "22  2018   May   6873\n",
              "23  2018   Oct      4\n",
              "24  2018   Sep     16"
            ]
          },
          "execution_count": 42,
          "metadata": {},
          "output_type": "execute_result"
        }
      ],
      "source": [
        "num_orders = pd.pivot_table(q,index=['year', 'month'], aggfunc={'order_id': lambda x: len(x.unique())})\n",
        "num_orders = num_orders.reset_index().rename(columns={'order_id': 'count'})\n",
        "num_orders"
      ]
    },
    {
      "cell_type": "code",
      "execution_count": 43,
      "metadata": {
        "colab": {
          "base_uri": "https://localhost:8080/",
          "height": 833
        },
        "id": "Min036HniWYY",
        "outputId": "aebba5d4-43a5-42ce-d129-a4f54c374b2d"
      },
      "outputs": [
        {
          "data": {
            "text/html": [
              "<div>\n",
              "<style scoped>\n",
              "    .dataframe tbody tr th:only-of-type {\n",
              "        vertical-align: middle;\n",
              "    }\n",
              "\n",
              "    .dataframe tbody tr th {\n",
              "        vertical-align: top;\n",
              "    }\n",
              "\n",
              "    .dataframe thead th {\n",
              "        text-align: right;\n",
              "    }\n",
              "</style>\n",
              "<table border=\"1\" class=\"dataframe\">\n",
              "  <thead>\n",
              "    <tr style=\"text-align: right;\">\n",
              "      <th></th>\n",
              "      <th>year</th>\n",
              "      <th>month</th>\n",
              "      <th>count</th>\n",
              "      <th>months</th>\n",
              "    </tr>\n",
              "  </thead>\n",
              "  <tbody>\n",
              "    <tr>\n",
              "      <th>18</th>\n",
              "      <td>2018</td>\n",
              "      <td>Jan</td>\n",
              "      <td>7269</td>\n",
              "      <td>0</td>\n",
              "    </tr>\n",
              "    <tr>\n",
              "      <th>7</th>\n",
              "      <td>2017</td>\n",
              "      <td>Jan</td>\n",
              "      <td>800</td>\n",
              "      <td>0</td>\n",
              "    </tr>\n",
              "    <tr>\n",
              "      <th>17</th>\n",
              "      <td>2018</td>\n",
              "      <td>Feb</td>\n",
              "      <td>6728</td>\n",
              "      <td>1</td>\n",
              "    </tr>\n",
              "    <tr>\n",
              "      <th>6</th>\n",
              "      <td>2017</td>\n",
              "      <td>Feb</td>\n",
              "      <td>1780</td>\n",
              "      <td>1</td>\n",
              "    </tr>\n",
              "    <tr>\n",
              "      <th>10</th>\n",
              "      <td>2017</td>\n",
              "      <td>Mar</td>\n",
              "      <td>2682</td>\n",
              "      <td>2</td>\n",
              "    </tr>\n",
              "    <tr>\n",
              "      <th>21</th>\n",
              "      <td>2018</td>\n",
              "      <td>Mar</td>\n",
              "      <td>7211</td>\n",
              "      <td>2</td>\n",
              "    </tr>\n",
              "    <tr>\n",
              "      <th>3</th>\n",
              "      <td>2017</td>\n",
              "      <td>Apr</td>\n",
              "      <td>2404</td>\n",
              "      <td>3</td>\n",
              "    </tr>\n",
              "    <tr>\n",
              "      <th>15</th>\n",
              "      <td>2018</td>\n",
              "      <td>Apr</td>\n",
              "      <td>6939</td>\n",
              "      <td>3</td>\n",
              "    </tr>\n",
              "    <tr>\n",
              "      <th>11</th>\n",
              "      <td>2017</td>\n",
              "      <td>May</td>\n",
              "      <td>3700</td>\n",
              "      <td>4</td>\n",
              "    </tr>\n",
              "    <tr>\n",
              "      <th>22</th>\n",
              "      <td>2018</td>\n",
              "      <td>May</td>\n",
              "      <td>6873</td>\n",
              "      <td>4</td>\n",
              "    </tr>\n",
              "    <tr>\n",
              "      <th>9</th>\n",
              "      <td>2017</td>\n",
              "      <td>Jun</td>\n",
              "      <td>3245</td>\n",
              "      <td>5</td>\n",
              "    </tr>\n",
              "    <tr>\n",
              "      <th>20</th>\n",
              "      <td>2018</td>\n",
              "      <td>Jun</td>\n",
              "      <td>6167</td>\n",
              "      <td>5</td>\n",
              "    </tr>\n",
              "    <tr>\n",
              "      <th>8</th>\n",
              "      <td>2017</td>\n",
              "      <td>Jul</td>\n",
              "      <td>4026</td>\n",
              "      <td>6</td>\n",
              "    </tr>\n",
              "    <tr>\n",
              "      <th>19</th>\n",
              "      <td>2018</td>\n",
              "      <td>Jul</td>\n",
              "      <td>6292</td>\n",
              "      <td>6</td>\n",
              "    </tr>\n",
              "    <tr>\n",
              "      <th>4</th>\n",
              "      <td>2017</td>\n",
              "      <td>Aug</td>\n",
              "      <td>4331</td>\n",
              "      <td>7</td>\n",
              "    </tr>\n",
              "    <tr>\n",
              "      <th>16</th>\n",
              "      <td>2018</td>\n",
              "      <td>Aug</td>\n",
              "      <td>6512</td>\n",
              "      <td>7</td>\n",
              "    </tr>\n",
              "    <tr>\n",
              "      <th>14</th>\n",
              "      <td>2017</td>\n",
              "      <td>Sep</td>\n",
              "      <td>4285</td>\n",
              "      <td>8</td>\n",
              "    </tr>\n",
              "    <tr>\n",
              "      <th>2</th>\n",
              "      <td>2016</td>\n",
              "      <td>Sep</td>\n",
              "      <td>3</td>\n",
              "      <td>8</td>\n",
              "    </tr>\n",
              "    <tr>\n",
              "      <th>24</th>\n",
              "      <td>2018</td>\n",
              "      <td>Sep</td>\n",
              "      <td>16</td>\n",
              "      <td>8</td>\n",
              "    </tr>\n",
              "    <tr>\n",
              "      <th>23</th>\n",
              "      <td>2018</td>\n",
              "      <td>Oct</td>\n",
              "      <td>4</td>\n",
              "      <td>9</td>\n",
              "    </tr>\n",
              "    <tr>\n",
              "      <th>13</th>\n",
              "      <td>2017</td>\n",
              "      <td>Oct</td>\n",
              "      <td>4631</td>\n",
              "      <td>9</td>\n",
              "    </tr>\n",
              "    <tr>\n",
              "      <th>1</th>\n",
              "      <td>2016</td>\n",
              "      <td>Oct</td>\n",
              "      <td>324</td>\n",
              "      <td>9</td>\n",
              "    </tr>\n",
              "    <tr>\n",
              "      <th>12</th>\n",
              "      <td>2017</td>\n",
              "      <td>Nov</td>\n",
              "      <td>7544</td>\n",
              "      <td>10</td>\n",
              "    </tr>\n",
              "    <tr>\n",
              "      <th>5</th>\n",
              "      <td>2017</td>\n",
              "      <td>Dec</td>\n",
              "      <td>5673</td>\n",
              "      <td>11</td>\n",
              "    </tr>\n",
              "    <tr>\n",
              "      <th>0</th>\n",
              "      <td>2016</td>\n",
              "      <td>Dec</td>\n",
              "      <td>1</td>\n",
              "      <td>11</td>\n",
              "    </tr>\n",
              "  </tbody>\n",
              "</table>\n",
              "</div>"
            ],
            "text/plain": [
              "    year month  count  months\n",
              "18  2018   Jan   7269       0\n",
              "7   2017   Jan    800       0\n",
              "17  2018   Feb   6728       1\n",
              "6   2017   Feb   1780       1\n",
              "10  2017   Mar   2682       2\n",
              "21  2018   Mar   7211       2\n",
              "3   2017   Apr   2404       3\n",
              "15  2018   Apr   6939       3\n",
              "11  2017   May   3700       4\n",
              "22  2018   May   6873       4\n",
              "9   2017   Jun   3245       5\n",
              "20  2018   Jun   6167       5\n",
              "8   2017   Jul   4026       6\n",
              "19  2018   Jul   6292       6\n",
              "4   2017   Aug   4331       7\n",
              "16  2018   Aug   6512       7\n",
              "14  2017   Sep   4285       8\n",
              "2   2016   Sep      3       8\n",
              "24  2018   Sep     16       8\n",
              "23  2018   Oct      4       9\n",
              "13  2017   Oct   4631       9\n",
              "1   2016   Oct    324       9\n",
              "12  2017   Nov   7544      10\n",
              "5   2017   Dec   5673      11\n",
              "0   2016   Dec      1      11"
            ]
          },
          "execution_count": 43,
          "metadata": {},
          "output_type": "execute_result"
        }
      ],
      "source": [
        "ordered_months = ['Jan', 'Feb', 'Mar', 'Apr', 'May', 'Jun', 'Jul', 'Aug', 'Sep', 'Oct', 'Nov', 'Dec']\n",
        "num_orders['months'] = num_orders['month'].apply(lambda x:ordered_months.index(x))\n",
        "num_orders = num_orders.sort_values('months')\n",
        "num_orders\n"
      ]
    },
    {
      "cell_type": "code",
      "execution_count": 44,
      "metadata": {
        "colab": {
          "base_uri": "https://localhost:8080/",
          "height": 457
        },
        "id": "sOrNnY3BQpKO",
        "outputId": "4dbd6115-e0bd-46ca-ddf8-9a28ce6317f5"
      },
      "outputs": [
        {
          "data": {
            "image/png": "[encoded data removed]",
            "text/plain": [
              "<Figure size 2000x700 with 1 Axes>"
            ]
          },
          "metadata": {},
          "output_type": "display_data"
        }
      ],
      "source": [
        "plt.figure(figsize=(20,7))\n",
        "sns.barplot(x='month',y='count',data=num_orders, hue='year')\n",
        "plt.title('Number of Orders per Month', fontsize=20)\n",
        "plt.xlabel('Month')\n",
        "plt.ylabel('Number of Orders')\n",
        "plt.show()"
      ]
    },
    {
      "cell_type": "markdown",
      "metadata": {
        "id": "K8FkKddJWoWG"
      },
      "source": [
        "**Insights from Number of Orders per Month Chart:**\n",
        "\n",
        "1.   In 2017, there is gradually increment since Januari to November then Drop in December, then start from January 2018, bar trend is quite stable\n",
        "2.   The Highest orders happened in November 2017, which had 7544 order in a month\n",
        "\n"
      ]
    },
    {
      "cell_type": "markdown",
      "metadata": {
        "id": "fl5aa2fSYlcJ"
      },
      "source": [
        "# **Daily Orders Trend (Which Day of Weeks is The Busiest)**"
      ]
    },
    {
      "cell_type": "code",
      "execution_count": 45,
      "metadata": {
        "colab": {
          "base_uri": "https://localhost:8080/",
          "height": 269
        },
        "id": "ros_3L5hcVrY",
        "outputId": "5e1d85ae-2851-4582-a919-93616bbcc5f5"
      },
      "outputs": [
        {
          "data": {
            "text/html": [
              "<div>\n",
              "<style scoped>\n",
              "    .dataframe tbody tr th:only-of-type {\n",
              "        vertical-align: middle;\n",
              "    }\n",
              "\n",
              "    .dataframe tbody tr th {\n",
              "        vertical-align: top;\n",
              "    }\n",
              "\n",
              "    .dataframe thead th {\n",
              "        text-align: right;\n",
              "    }\n",
              "</style>\n",
              "<table border=\"1\" class=\"dataframe\">\n",
              "  <thead>\n",
              "    <tr style=\"text-align: right;\">\n",
              "      <th></th>\n",
              "      <th>day</th>\n",
              "      <th>order_id</th>\n",
              "    </tr>\n",
              "  </thead>\n",
              "  <tbody>\n",
              "    <tr>\n",
              "      <th>0</th>\n",
              "      <td>Fri</td>\n",
              "      <td>14122</td>\n",
              "    </tr>\n",
              "    <tr>\n",
              "      <th>1</th>\n",
              "      <td>Mon</td>\n",
              "      <td>16196</td>\n",
              "    </tr>\n",
              "    <tr>\n",
              "      <th>2</th>\n",
              "      <td>Sat</td>\n",
              "      <td>10887</td>\n",
              "    </tr>\n",
              "    <tr>\n",
              "      <th>3</th>\n",
              "      <td>Sun</td>\n",
              "      <td>11960</td>\n",
              "    </tr>\n",
              "    <tr>\n",
              "      <th>4</th>\n",
              "      <td>Thu</td>\n",
              "      <td>14760</td>\n",
              "    </tr>\n",
              "    <tr>\n",
              "      <th>5</th>\n",
              "      <td>Tue</td>\n",
              "      <td>15963</td>\n",
              "    </tr>\n",
              "    <tr>\n",
              "      <th>6</th>\n",
              "      <td>Wed</td>\n",
              "      <td>15552</td>\n",
              "    </tr>\n",
              "  </tbody>\n",
              "</table>\n",
              "</div>"
            ],
            "text/plain": [
              "   day  order_id\n",
              "0  Fri     14122\n",
              "1  Mon     16196\n",
              "2  Sat     10887\n",
              "3  Sun     11960\n",
              "4  Thu     14760\n",
              "5  Tue     15963\n",
              "6  Wed     15552"
            ]
          },
          "execution_count": 45,
          "metadata": {},
          "output_type": "execute_result"
        }
      ],
      "source": [
        "weekday_orders = q.groupby('day', as_index=False)['order_id'].nunique()\n",
        "weekday_orders"
      ]
    },
    {
      "cell_type": "code",
      "execution_count": 46,
      "metadata": {
        "colab": {
          "base_uri": "https://localhost:8080/",
          "height": 269
        },
        "id": "PWRcXYO2fZRu",
        "outputId": "b34e18f2-7da2-4db9-98e9-12f098063844"
      },
      "outputs": [
        {
          "data": {
            "text/html": [
              "<div>\n",
              "<style scoped>\n",
              "    .dataframe tbody tr th:only-of-type {\n",
              "        vertical-align: middle;\n",
              "    }\n",
              "\n",
              "    .dataframe tbody tr th {\n",
              "        vertical-align: top;\n",
              "    }\n",
              "\n",
              "    .dataframe thead th {\n",
              "        text-align: right;\n",
              "    }\n",
              "</style>\n",
              "<table border=\"1\" class=\"dataframe\">\n",
              "  <thead>\n",
              "    <tr style=\"text-align: right;\">\n",
              "      <th></th>\n",
              "      <th>day</th>\n",
              "      <th>order_id</th>\n",
              "    </tr>\n",
              "  </thead>\n",
              "  <tbody>\n",
              "    <tr>\n",
              "      <th>0</th>\n",
              "      <td>Mon</td>\n",
              "      <td>16196</td>\n",
              "    </tr>\n",
              "    <tr>\n",
              "      <th>1</th>\n",
              "      <td>Tue</td>\n",
              "      <td>15963</td>\n",
              "    </tr>\n",
              "    <tr>\n",
              "      <th>2</th>\n",
              "      <td>Wed</td>\n",
              "      <td>15552</td>\n",
              "    </tr>\n",
              "    <tr>\n",
              "      <th>3</th>\n",
              "      <td>Thu</td>\n",
              "      <td>14760</td>\n",
              "    </tr>\n",
              "    <tr>\n",
              "      <th>4</th>\n",
              "      <td>Fri</td>\n",
              "      <td>14122</td>\n",
              "    </tr>\n",
              "    <tr>\n",
              "      <th>5</th>\n",
              "      <td>Sun</td>\n",
              "      <td>11960</td>\n",
              "    </tr>\n",
              "    <tr>\n",
              "      <th>6</th>\n",
              "      <td>Sat</td>\n",
              "      <td>10887</td>\n",
              "    </tr>\n",
              "  </tbody>\n",
              "</table>\n",
              "</div>"
            ],
            "text/plain": [
              "   day  order_id\n",
              "0  Mon     16196\n",
              "1  Tue     15963\n",
              "2  Wed     15552\n",
              "3  Thu     14760\n",
              "4  Fri     14122\n",
              "5  Sun     11960\n",
              "6  Sat     10887"
            ]
          },
          "execution_count": 46,
          "metadata": {},
          "output_type": "execute_result"
        }
      ],
      "source": [
        "weekday_ordersa = q.groupby(['day'])['order_id'].nunique().sort_values(ascending=False).reset_index()\n",
        "weekday_ordersa"
      ]
    },
    {
      "cell_type": "code",
      "execution_count": 47,
      "metadata": {
        "colab": {
          "base_uri": "https://localhost:8080/",
          "height": 373
        },
        "id": "7KVr9l6mYbJs",
        "outputId": "80a85606-0c14-4659-835d-39cf5b4869b0"
      },
      "outputs": [
        {
          "data": {
            "image/png": "[encoded data removed]",
            "text/plain": [
              "<Figure size 1500x500 with 1 Axes>"
            ]
          },
          "metadata": {},
          "output_type": "display_data"
        }
      ],
      "source": [
        "plt.figure(figsize=(15,5))\n",
        "sns.barplot(x='day',y='order_id', data=weekday_orders, order = ['Mon','Tue','Wed','Thu','Fri','Sat','Sun'])\n",
        "plt.title('Daily Orders', fontsize=20)\n",
        "plt.xlabel('Day')\n",
        "plt.ylabel('Number of Orders')\n",
        "plt.show()"
      ]
    },
    {
      "cell_type": "markdown",
      "metadata": {
        "id": "hV-OcQvahuHA"
      },
      "source": [
        "**Insights from Daily Orders Chart:**\n",
        "\n",
        "1.   The busiest day is Monday which has 16196 orders\n",
        "2.   Unfortunetaly, Weekend day (Saturday dan Sunday) became the day that has lowest order"
      ]
    },
    {
      "cell_type": "markdown",
      "metadata": {
        "id": "DjPnh0uJjLZy"
      },
      "source": [
        "# **Percentage of Orders per Payment Type**"
      ]
    },
    {
      "cell_type": "code",
      "execution_count": 48,
      "metadata": {
        "colab": {
          "base_uri": "https://localhost:8080/",
          "height": 206
        },
        "id": "9-BL5e-AopTZ",
        "outputId": "6b49c030-7292-4b23-858c-f93cfcd9cca1"
      },
      "outputs": [
        {
          "data": {
            "text/html": [
              "<div>\n",
              "<style scoped>\n",
              "    .dataframe tbody tr th:only-of-type {\n",
              "        vertical-align: middle;\n",
              "    }\n",
              "\n",
              "    .dataframe tbody tr th {\n",
              "        vertical-align: top;\n",
              "    }\n",
              "\n",
              "    .dataframe thead th {\n",
              "        text-align: right;\n",
              "    }\n",
              "</style>\n",
              "<table border=\"1\" class=\"dataframe\">\n",
              "  <thead>\n",
              "    <tr style=\"text-align: right;\">\n",
              "      <th></th>\n",
              "      <th>payment_type</th>\n",
              "      <th>percentage</th>\n",
              "    </tr>\n",
              "  </thead>\n",
              "  <tbody>\n",
              "    <tr>\n",
              "      <th>4</th>\n",
              "      <td>credit_card</td>\n",
              "      <td>74.350</td>\n",
              "    </tr>\n",
              "    <tr>\n",
              "      <th>3</th>\n",
              "      <td>boleto</td>\n",
              "      <td>19.157</td>\n",
              "    </tr>\n",
              "    <tr>\n",
              "      <th>2</th>\n",
              "      <td>voucher</td>\n",
              "      <td>5.009</td>\n",
              "    </tr>\n",
              "    <tr>\n",
              "      <th>1</th>\n",
              "      <td>debit_card</td>\n",
              "      <td>1.481</td>\n",
              "    </tr>\n",
              "    <tr>\n",
              "      <th>0</th>\n",
              "      <td>not_defined</td>\n",
              "      <td>0.003</td>\n",
              "    </tr>\n",
              "  </tbody>\n",
              "</table>\n",
              "</div>"
            ],
            "text/plain": [
              "  payment_type  percentage\n",
              "4  credit_card      74.350\n",
              "3       boleto      19.157\n",
              "2      voucher       5.009\n",
              "1   debit_card       1.481\n",
              "0  not_defined       0.003"
            ]
          },
          "execution_count": 48,
          "metadata": {},
          "output_type": "execute_result"
        }
      ],
      "source": [
        "payment_type = q['payment_type'].value_counts().sort_values()/len(q['payment_type'])*100\n",
        "payment_type = pd.DataFrame(payment_type).reset_index().rename(columns={'index': 'payment_type','payment_type':'percentage'})\n",
        "payment_type = payment_type.sort_values('percentage', ascending= False)\n",
        "payment_type"
      ]
    },
    {
      "cell_type": "code",
      "execution_count": 49,
      "metadata": {
        "colab": {
          "base_uri": "https://localhost:8080/",
          "height": 175
        },
        "id": "uOEYJN2mtxw9",
        "outputId": "d8a61b48-c55a-49fc-8d61-163f90c32ab4"
      },
      "outputs": [
        {
          "data": {
            "text/html": [
              "<div>\n",
              "<style scoped>\n",
              "    .dataframe tbody tr th:only-of-type {\n",
              "        vertical-align: middle;\n",
              "    }\n",
              "\n",
              "    .dataframe tbody tr th {\n",
              "        vertical-align: top;\n",
              "    }\n",
              "\n",
              "    .dataframe thead th {\n",
              "        text-align: right;\n",
              "    }\n",
              "</style>\n",
              "<table border=\"1\" class=\"dataframe\">\n",
              "  <thead>\n",
              "    <tr style=\"text-align: right;\">\n",
              "      <th></th>\n",
              "      <th>payment_type</th>\n",
              "      <th>percentage</th>\n",
              "    </tr>\n",
              "  </thead>\n",
              "  <tbody>\n",
              "    <tr>\n",
              "      <th>0</th>\n",
              "      <td>boleto</td>\n",
              "      <td>19.157</td>\n",
              "    </tr>\n",
              "    <tr>\n",
              "      <th>1</th>\n",
              "      <td>credit_card</td>\n",
              "      <td>74.350</td>\n",
              "    </tr>\n",
              "    <tr>\n",
              "      <th>2</th>\n",
              "      <td>others</td>\n",
              "      <td>1.483</td>\n",
              "    </tr>\n",
              "    <tr>\n",
              "      <th>3</th>\n",
              "      <td>voucher</td>\n",
              "      <td>5.009</td>\n",
              "    </tr>\n",
              "  </tbody>\n",
              "</table>\n",
              "</div>"
            ],
            "text/plain": [
              "  payment_type  percentage\n",
              "0       boleto      19.157\n",
              "1  credit_card      74.350\n",
              "2       others       1.483\n",
              "3      voucher       5.009"
            ]
          },
          "execution_count": 49,
          "metadata": {},
          "output_type": "execute_result"
        }
      ],
      "source": [
        "modif = payment_type.copy()\n",
        "modif.loc[modif['percentage'] < 5,'payment_type'] = 'others'\n",
        "modif = modif.groupby('payment_type')['percentage'].sum().reset_index()\n",
        "modif"
      ]
    },
    {
      "cell_type": "code",
      "execution_count": 50,
      "metadata": {
        "colab": {
          "base_uri": "https://localhost:8080/",
          "height": 427
        },
        "id": "nrui4R6_u_mP",
        "outputId": "57fc2445-50d6-435d-c568-107a636d2a32"
      },
      "outputs": [
        {
          "data": {
            "image/png": "[encoded data removed]",
            "text/plain": [
              "<Figure size 1500x700 with 1 Axes>"
            ]
          },
          "metadata": {},
          "output_type": "display_data"
        }
      ],
      "source": [
        "pie, ax = plt.subplots(figsize=[15,7])\n",
        "explode = (0, 0.2, 0, 0)\n",
        "plt.pie(modif['percentage'],explode=explode,shadow=True,autopct=lambda p: '{:.1f}%'.format(round(p)) if p > 2 else '')\n",
        "plt.title('Payment Type Used by User')\n",
        "plt.legend(modif['payment_type'],loc=1,title='payment type')\n",
        "plt.show()"
      ]
    },
    {
      "cell_type": "markdown",
      "metadata": {
        "id": "fBK_upU1zrz0"
      },
      "source": [
        "**Insights from Pie Chart Above:**\n",
        "\n",
        "About 74% of transactions made by users are using credit cards and 19 % using boleto"
      ]
    },
    {
      "cell_type": "markdown",
      "metadata": {
        "id": "x9nmwiSTxh0B"
      },
      "source": [
        "# **Cluster Segmentation using RFM Analysis**"
      ]
    },
    {
      "cell_type": "code",
      "execution_count": 51,
      "metadata": {
        "colab": {
          "base_uri": "https://localhost:8080/",
          "height": 270
        },
        "id": "gKaxzc9SkWL7",
        "outputId": "28c889b5-d114-4e56-d80c-f955a071687f"
      },
      "outputs": [
        {
          "data": {
            "text/html": [
              "<div>\n",
              "<style scoped>\n",
              "    .dataframe tbody tr th:only-of-type {\n",
              "        vertical-align: middle;\n",
              "    }\n",
              "\n",
              "    .dataframe tbody tr th {\n",
              "        vertical-align: top;\n",
              "    }\n",
              "\n",
              "    .dataframe thead th {\n",
              "        text-align: right;\n",
              "    }\n",
              "</style>\n",
              "<table border=\"1\" class=\"dataframe\">\n",
              "  <thead>\n",
              "    <tr style=\"text-align: right;\">\n",
              "      <th></th>\n",
              "      <th>order_id</th>\n",
              "      <th>payment_sequential</th>\n",
              "      <th>payment_type</th>\n",
              "      <th>payment_installments</th>\n",
              "      <th>payment_value</th>\n",
              "      <th>customer_id</th>\n",
              "      <th>order_status</th>\n",
              "      <th>order_purchase_timestamp</th>\n",
              "      <th>order_approved_at</th>\n",
              "      <th>order_delivered_carrier_date</th>\n",
              "      <th>order_delivered_customer_date</th>\n",
              "      <th>order_estimated_delivery_date</th>\n",
              "      <th>customer_unique_id</th>\n",
              "      <th>customer_zip_code_prefix</th>\n",
              "      <th>customer_city</th>\n",
              "      <th>customer_state</th>\n",
              "    </tr>\n",
              "  </thead>\n",
              "  <tbody>\n",
              "    <tr>\n",
              "      <th>0</th>\n",
              "      <td>b81ef226f3fe1789b1e8b2acac839d17</td>\n",
              "      <td>1.000</td>\n",
              "      <td>credit_card</td>\n",
              "      <td>8.000</td>\n",
              "      <td>99.330</td>\n",
              "      <td>0a8556ac6be836b46b3e89920d59291c</td>\n",
              "      <td>delivered</td>\n",
              "      <td>2018-04-25 22:01:49</td>\n",
              "      <td>2018-04-25 22:15:09</td>\n",
              "      <td>2018-05-02 15:20:00</td>\n",
              "      <td>2018-05-09 17:36:51</td>\n",
              "      <td>2018-05-22</td>\n",
              "      <td>708ab75d2a007f0564aedd11139c7708</td>\n",
              "      <td>39801</td>\n",
              "      <td>teofilo otoni</td>\n",
              "      <td>MG</td>\n",
              "    </tr>\n",
              "    <tr>\n",
              "      <th>1</th>\n",
              "      <td>a9810da82917af2d9aefd1278f1dcfa0</td>\n",
              "      <td>1.000</td>\n",
              "      <td>credit_card</td>\n",
              "      <td>1.000</td>\n",
              "      <td>24.390</td>\n",
              "      <td>f2c7fc58a9de810828715166c672f10a</td>\n",
              "      <td>delivered</td>\n",
              "      <td>2018-06-26 11:01:38</td>\n",
              "      <td>2018-06-26 11:18:58</td>\n",
              "      <td>2018-06-28 14:18:00</td>\n",
              "      <td>2018-06-29 20:32:09</td>\n",
              "      <td>2018-07-16</td>\n",
              "      <td>a8b9d3a27068454b1c98cc67d4e31e6f</td>\n",
              "      <td>2422</td>\n",
              "      <td>sao paulo</td>\n",
              "      <td>SP</td>\n",
              "    </tr>\n",
              "    <tr>\n",
              "      <th>2</th>\n",
              "      <td>25e8ea4e93396b6fa0d3dd708e76c1bd</td>\n",
              "      <td>1.000</td>\n",
              "      <td>credit_card</td>\n",
              "      <td>1.000</td>\n",
              "      <td>65.710</td>\n",
              "      <td>25b14b69de0b6e184ae6fe2755e478f9</td>\n",
              "      <td>delivered</td>\n",
              "      <td>2017-12-12 11:19:55</td>\n",
              "      <td>2017-12-14 09:52:34</td>\n",
              "      <td>2017-12-15 20:13:22</td>\n",
              "      <td>2017-12-18 17:24:41</td>\n",
              "      <td>2018-01-04</td>\n",
              "      <td>6f70c0b2f7552832ba46eb57b1c5651e</td>\n",
              "      <td>2652</td>\n",
              "      <td>sao paulo</td>\n",
              "      <td>SP</td>\n",
              "    </tr>\n",
              "    <tr>\n",
              "      <th>3</th>\n",
              "      <td>ba78997921bbcdc1373bb41e913ab953</td>\n",
              "      <td>1.000</td>\n",
              "      <td>credit_card</td>\n",
              "      <td>8.000</td>\n",
              "      <td>107.780</td>\n",
              "      <td>7a5d8efaaa1081f800628c30d2b0728f</td>\n",
              "      <td>delivered</td>\n",
              "      <td>2017-12-06 12:04:06</td>\n",
              "      <td>2017-12-06 12:13:20</td>\n",
              "      <td>2017-12-07 20:28:28</td>\n",
              "      <td>2017-12-21 01:35:51</td>\n",
              "      <td>2018-01-04</td>\n",
              "      <td>87695ed086ebd36f20404c82d20fca87</td>\n",
              "      <td>36060</td>\n",
              "      <td>juiz de fora</td>\n",
              "      <td>MG</td>\n",
              "    </tr>\n",
              "    <tr>\n",
              "      <th>4</th>\n",
              "      <td>42fdf880ba16b47b59251dd489d4441a</td>\n",
              "      <td>1.000</td>\n",
              "      <td>credit_card</td>\n",
              "      <td>2.000</td>\n",
              "      <td>128.450</td>\n",
              "      <td>15fd6fb8f8312dbb4674e4518d6fa3b3</td>\n",
              "      <td>delivered</td>\n",
              "      <td>2018-05-21 13:59:17</td>\n",
              "      <td>2018-05-21 16:14:41</td>\n",
              "      <td>2018-05-22 11:46:00</td>\n",
              "      <td>2018-06-01 21:44:53</td>\n",
              "      <td>2018-06-13</td>\n",
              "      <td>4291db0da71914754618cd789aebcd56</td>\n",
              "      <td>18570</td>\n",
              "      <td>conchas</td>\n",
              "      <td>SP</td>\n",
              "    </tr>\n",
              "  </tbody>\n",
              "</table>\n",
              "</div>"
            ],
            "text/plain": [
              "                           order_id  payment_sequential payment_type  \\\n",
              "0  b81ef226f3fe1789b1e8b2acac839d17               1.000  credit_card   \n",
              "1  a9810da82917af2d9aefd1278f1dcfa0               1.000  credit_card   \n",
              "2  25e8ea4e93396b6fa0d3dd708e76c1bd               1.000  credit_card   \n",
              "3  ba78997921bbcdc1373bb41e913ab953               1.000  credit_card   \n",
              "4  42fdf880ba16b47b59251dd489d4441a               1.000  credit_card   \n",
              "\n",
              "   payment_installments  payment_value                       customer_id  \\\n",
              "0                 8.000         99.330  0a8556ac6be836b46b3e89920d59291c   \n",
              "1                 1.000         24.390  f2c7fc58a9de810828715166c672f10a   \n",
              "2                 1.000         65.710  25b14b69de0b6e184ae6fe2755e478f9   \n",
              "3                 8.000        107.780  7a5d8efaaa1081f800628c30d2b0728f   \n",
              "4                 2.000        128.450  15fd6fb8f8312dbb4674e4518d6fa3b3   \n",
              "\n",
              "  order_status order_purchase_timestamp   order_approved_at  \\\n",
              "0    delivered      2018-04-25 22:01:49 2018-04-25 22:15:09   \n",
              "1    delivered      2018-06-26 11:01:38 2018-06-26 11:18:58   \n",
              "2    delivered      2017-12-12 11:19:55 2017-12-14 09:52:34   \n",
              "3    delivered      2017-12-06 12:04:06 2017-12-06 12:13:20   \n",
              "4    delivered      2018-05-21 13:59:17 2018-05-21 16:14:41   \n",
              "\n",
              "  order_delivered_carrier_date order_delivered_customer_date  \\\n",
              "0          2018-05-02 15:20:00           2018-05-09 17:36:51   \n",
              "1          2018-06-28 14:18:00           2018-06-29 20:32:09   \n",
              "2          2017-12-15 20:13:22           2017-12-18 17:24:41   \n",
              "3          2017-12-07 20:28:28           2017-12-21 01:35:51   \n",
              "4          2018-05-22 11:46:00           2018-06-01 21:44:53   \n",
              "\n",
              "  order_estimated_delivery_date                customer_unique_id  \\\n",
              "0                    2018-05-22  708ab75d2a007f0564aedd11139c7708   \n",
              "1                    2018-07-16  a8b9d3a27068454b1c98cc67d4e31e6f   \n",
              "2                    2018-01-04  6f70c0b2f7552832ba46eb57b1c5651e   \n",
              "3                    2018-01-04  87695ed086ebd36f20404c82d20fca87   \n",
              "4                    2018-06-13  4291db0da71914754618cd789aebcd56   \n",
              "\n",
              "   customer_zip_code_prefix  customer_city customer_state  \n",
              "0                     39801  teofilo otoni             MG  \n",
              "1                      2422      sao paulo             SP  \n",
              "2                      2652      sao paulo             SP  \n",
              "3                     36060   juiz de fora             MG  \n",
              "4                     18570        conchas             SP  "
            ]
          },
          "execution_count": 51,
          "metadata": {},
          "output_type": "execute_result"
        }
      ],
      "source": [
        "cs = df.copy()\n",
        "cs.head()"
      ]
    },
    {
      "cell_type": "code",
      "execution_count": 52,
      "metadata": {
        "colab": {
          "base_uri": "https://localhost:8080/",
          "height": 270
        },
        "id": "Ii59kgoSkbET",
        "outputId": "55306718-19e3-4666-9104-c7c2726a679b"
      },
      "outputs": [
        {
          "data": {
            "text/html": [
              "<div>\n",
              "<style scoped>\n",
              "    .dataframe tbody tr th:only-of-type {\n",
              "        vertical-align: middle;\n",
              "    }\n",
              "\n",
              "    .dataframe tbody tr th {\n",
              "        vertical-align: top;\n",
              "    }\n",
              "\n",
              "    .dataframe thead th {\n",
              "        text-align: right;\n",
              "    }\n",
              "</style>\n",
              "<table border=\"1\" class=\"dataframe\">\n",
              "  <thead>\n",
              "    <tr style=\"text-align: right;\">\n",
              "      <th></th>\n",
              "      <th>order_id</th>\n",
              "      <th>payment_type</th>\n",
              "      <th>payment_installments</th>\n",
              "      <th>payment_value</th>\n",
              "      <th>customer_id</th>\n",
              "      <th>order_status</th>\n",
              "      <th>order_purchase_timestamp</th>\n",
              "      <th>customer_unique_id</th>\n",
              "      <th>customer_zip_code_prefix</th>\n",
              "      <th>customer_city</th>\n",
              "      <th>customer_state</th>\n",
              "    </tr>\n",
              "  </thead>\n",
              "  <tbody>\n",
              "    <tr>\n",
              "      <th>0</th>\n",
              "      <td>b81ef226f3fe1789b1e8b2acac839d17</td>\n",
              "      <td>credit_card</td>\n",
              "      <td>8.000</td>\n",
              "      <td>99.330</td>\n",
              "      <td>0a8556ac6be836b46b3e89920d59291c</td>\n",
              "      <td>delivered</td>\n",
              "      <td>2018-04-25 22:01:49</td>\n",
              "      <td>708ab75d2a007f0564aedd11139c7708</td>\n",
              "      <td>39801</td>\n",
              "      <td>teofilo otoni</td>\n",
              "      <td>MG</td>\n",
              "    </tr>\n",
              "    <tr>\n",
              "      <th>1</th>\n",
              "      <td>a9810da82917af2d9aefd1278f1dcfa0</td>\n",
              "      <td>credit_card</td>\n",
              "      <td>1.000</td>\n",
              "      <td>24.390</td>\n",
              "      <td>f2c7fc58a9de810828715166c672f10a</td>\n",
              "      <td>delivered</td>\n",
              "      <td>2018-06-26 11:01:38</td>\n",
              "      <td>a8b9d3a27068454b1c98cc67d4e31e6f</td>\n",
              "      <td>2422</td>\n",
              "      <td>sao paulo</td>\n",
              "      <td>SP</td>\n",
              "    </tr>\n",
              "    <tr>\n",
              "      <th>2</th>\n",
              "      <td>25e8ea4e93396b6fa0d3dd708e76c1bd</td>\n",
              "      <td>credit_card</td>\n",
              "      <td>1.000</td>\n",
              "      <td>65.710</td>\n",
              "      <td>25b14b69de0b6e184ae6fe2755e478f9</td>\n",
              "      <td>delivered</td>\n",
              "      <td>2017-12-12 11:19:55</td>\n",
              "      <td>6f70c0b2f7552832ba46eb57b1c5651e</td>\n",
              "      <td>2652</td>\n",
              "      <td>sao paulo</td>\n",
              "      <td>SP</td>\n",
              "    </tr>\n",
              "    <tr>\n",
              "      <th>3</th>\n",
              "      <td>ba78997921bbcdc1373bb41e913ab953</td>\n",
              "      <td>credit_card</td>\n",
              "      <td>8.000</td>\n",
              "      <td>107.780</td>\n",
              "      <td>7a5d8efaaa1081f800628c30d2b0728f</td>\n",
              "      <td>delivered</td>\n",
              "      <td>2017-12-06 12:04:06</td>\n",
              "      <td>87695ed086ebd36f20404c82d20fca87</td>\n",
              "      <td>36060</td>\n",
              "      <td>juiz de fora</td>\n",
              "      <td>MG</td>\n",
              "    </tr>\n",
              "    <tr>\n",
              "      <th>4</th>\n",
              "      <td>42fdf880ba16b47b59251dd489d4441a</td>\n",
              "      <td>credit_card</td>\n",
              "      <td>2.000</td>\n",
              "      <td>128.450</td>\n",
              "      <td>15fd6fb8f8312dbb4674e4518d6fa3b3</td>\n",
              "      <td>delivered</td>\n",
              "      <td>2018-05-21 13:59:17</td>\n",
              "      <td>4291db0da71914754618cd789aebcd56</td>\n",
              "      <td>18570</td>\n",
              "      <td>conchas</td>\n",
              "      <td>SP</td>\n",
              "    </tr>\n",
              "  </tbody>\n",
              "</table>\n",
              "</div>"
            ],
            "text/plain": [
              "                           order_id payment_type  payment_installments  \\\n",
              "0  b81ef226f3fe1789b1e8b2acac839d17  credit_card                 8.000   \n",
              "1  a9810da82917af2d9aefd1278f1dcfa0  credit_card                 1.000   \n",
              "2  25e8ea4e93396b6fa0d3dd708e76c1bd  credit_card                 1.000   \n",
              "3  ba78997921bbcdc1373bb41e913ab953  credit_card                 8.000   \n",
              "4  42fdf880ba16b47b59251dd489d4441a  credit_card                 2.000   \n",
              "\n",
              "   payment_value                       customer_id order_status  \\\n",
              "0         99.330  0a8556ac6be836b46b3e89920d59291c    delivered   \n",
              "1         24.390  f2c7fc58a9de810828715166c672f10a    delivered   \n",
              "2         65.710  25b14b69de0b6e184ae6fe2755e478f9    delivered   \n",
              "3        107.780  7a5d8efaaa1081f800628c30d2b0728f    delivered   \n",
              "4        128.450  15fd6fb8f8312dbb4674e4518d6fa3b3    delivered   \n",
              "\n",
              "  order_purchase_timestamp                customer_unique_id  \\\n",
              "0      2018-04-25 22:01:49  708ab75d2a007f0564aedd11139c7708   \n",
              "1      2018-06-26 11:01:38  a8b9d3a27068454b1c98cc67d4e31e6f   \n",
              "2      2017-12-12 11:19:55  6f70c0b2f7552832ba46eb57b1c5651e   \n",
              "3      2017-12-06 12:04:06  87695ed086ebd36f20404c82d20fca87   \n",
              "4      2018-05-21 13:59:17  4291db0da71914754618cd789aebcd56   \n",
              "\n",
              "   customer_zip_code_prefix  customer_city customer_state  \n",
              "0                     39801  teofilo otoni             MG  \n",
              "1                      2422      sao paulo             SP  \n",
              "2                      2652      sao paulo             SP  \n",
              "3                     36060   juiz de fora             MG  \n",
              "4                     18570        conchas             SP  "
            ]
          },
          "execution_count": 52,
          "metadata": {},
          "output_type": "execute_result"
        }
      ],
      "source": [
        "cs = cs.drop(columns= ['payment_sequential','order_approved_at','order_delivered_carrier_date','order_delivered_customer_date','order_estimated_delivery_date'], axis=1)\n",
        "cs.head()"
      ]
    },
    {
      "cell_type": "code",
      "execution_count": 53,
      "metadata": {
        "colab": {
          "base_uri": "https://localhost:8080/"
        },
        "id": "ZB9PS-_-k4ch",
        "outputId": "7b866c06-d3fe-4be8-b77a-e92442805061"
      },
      "outputs": [
        {
          "data": {
            "text/plain": [
              "order_id                    1\n",
              "payment_type                1\n",
              "payment_installments        1\n",
              "payment_value               1\n",
              "customer_id                 0\n",
              "order_status                1\n",
              "order_purchase_timestamp    1\n",
              "customer_unique_id          0\n",
              "customer_zip_code_prefix    0\n",
              "customer_city               0\n",
              "customer_state              0\n",
              "dtype: int64"
            ]
          },
          "execution_count": 53,
          "metadata": {},
          "output_type": "execute_result"
        }
      ],
      "source": [
        "cs.isna().sum()"
      ]
    },
    {
      "cell_type": "code",
      "execution_count": 54,
      "metadata": {
        "id": "OP6PDlwIk8eC"
      },
      "outputs": [],
      "source": [
        "cs.dropna(inplace=True)"
      ]
    },
    {
      "cell_type": "code",
      "execution_count": 55,
      "metadata": {
        "colab": {
          "base_uri": "https://localhost:8080/",
          "height": 424
        },
        "id": "beUYgEB_xjO3",
        "outputId": "b07de76d-8ea5-4ca7-a3bb-3273b1927f2e"
      },
      "outputs": [
        {
          "data": {
            "text/html": [
              "<div>\n",
              "<style scoped>\n",
              "    .dataframe tbody tr th:only-of-type {\n",
              "        vertical-align: middle;\n",
              "    }\n",
              "\n",
              "    .dataframe tbody tr th {\n",
              "        vertical-align: top;\n",
              "    }\n",
              "\n",
              "    .dataframe thead th {\n",
              "        text-align: right;\n",
              "    }\n",
              "</style>\n",
              "<table border=\"1\" class=\"dataframe\">\n",
              "  <thead>\n",
              "    <tr style=\"text-align: right;\">\n",
              "      <th></th>\n",
              "      <th>customer_id</th>\n",
              "      <th>recency</th>\n",
              "      <th>frequency</th>\n",
              "      <th>monetary</th>\n",
              "    </tr>\n",
              "  </thead>\n",
              "  <tbody>\n",
              "    <tr>\n",
              "      <th>0</th>\n",
              "      <td>0000366f3b9a7992bf8c76cfdf3221e2</td>\n",
              "      <td>160</td>\n",
              "      <td>1</td>\n",
              "      <td>141.900</td>\n",
              "    </tr>\n",
              "    <tr>\n",
              "      <th>1</th>\n",
              "      <td>0000b849f77a49e4a4ce2b2a4ca5be3f</td>\n",
              "      <td>163</td>\n",
              "      <td>1</td>\n",
              "      <td>27.190</td>\n",
              "    </tr>\n",
              "    <tr>\n",
              "      <th>2</th>\n",
              "      <td>0000f46a3911fa3c0805444483337064</td>\n",
              "      <td>585</td>\n",
              "      <td>1</td>\n",
              "      <td>86.220</td>\n",
              "    </tr>\n",
              "    <tr>\n",
              "      <th>3</th>\n",
              "      <td>0000f6ccb0745a6a4b88665a16c9f078</td>\n",
              "      <td>369</td>\n",
              "      <td>1</td>\n",
              "      <td>43.620</td>\n",
              "    </tr>\n",
              "    <tr>\n",
              "      <th>4</th>\n",
              "      <td>0004aac84e0df4da2b147fca70cf8255</td>\n",
              "      <td>336</td>\n",
              "      <td>1</td>\n",
              "      <td>196.890</td>\n",
              "    </tr>\n",
              "    <tr>\n",
              "      <th>...</th>\n",
              "      <td>...</td>\n",
              "      <td>...</td>\n",
              "      <td>...</td>\n",
              "      <td>...</td>\n",
              "    </tr>\n",
              "    <tr>\n",
              "      <th>96090</th>\n",
              "      <td>fffcf5a5ff07b0908bd4e2dbc735a684</td>\n",
              "      <td>495</td>\n",
              "      <td>1</td>\n",
              "      <td>2067.420</td>\n",
              "    </tr>\n",
              "    <tr>\n",
              "      <th>96091</th>\n",
              "      <td>fffea47cd6d3cc0a88bd621562a9d061</td>\n",
              "      <td>310</td>\n",
              "      <td>1</td>\n",
              "      <td>84.580</td>\n",
              "    </tr>\n",
              "    <tr>\n",
              "      <th>96092</th>\n",
              "      <td>ffff371b4d645b6ecea244b27531430a</td>\n",
              "      <td>617</td>\n",
              "      <td>1</td>\n",
              "      <td>112.460</td>\n",
              "    </tr>\n",
              "    <tr>\n",
              "      <th>96093</th>\n",
              "      <td>ffff5962728ec6157033ef9805bacc48</td>\n",
              "      <td>168</td>\n",
              "      <td>1</td>\n",
              "      <td>133.690</td>\n",
              "    </tr>\n",
              "    <tr>\n",
              "      <th>96094</th>\n",
              "      <td>ffffd2657e2aad2907e67c3e9daecbeb</td>\n",
              "      <td>532</td>\n",
              "      <td>1</td>\n",
              "      <td>71.560</td>\n",
              "    </tr>\n",
              "  </tbody>\n",
              "</table>\n",
              "<p>96095 rows × 4 columns</p>\n",
              "</div>"
            ],
            "text/plain": [
              "                            customer_id  recency  frequency  monetary\n",
              "0      0000366f3b9a7992bf8c76cfdf3221e2      160          1   141.900\n",
              "1      0000b849f77a49e4a4ce2b2a4ca5be3f      163          1    27.190\n",
              "2      0000f46a3911fa3c0805444483337064      585          1    86.220\n",
              "3      0000f6ccb0745a6a4b88665a16c9f078      369          1    43.620\n",
              "4      0004aac84e0df4da2b147fca70cf8255      336          1   196.890\n",
              "...                                 ...      ...        ...       ...\n",
              "96090  fffcf5a5ff07b0908bd4e2dbc735a684      495          1  2067.420\n",
              "96091  fffea47cd6d3cc0a88bd621562a9d061      310          1    84.580\n",
              "96092  ffff371b4d645b6ecea244b27531430a      617          1   112.460\n",
              "96093  ffff5962728ec6157033ef9805bacc48      168          1   133.690\n",
              "96094  ffffd2657e2aad2907e67c3e9daecbeb      532          1    71.560\n",
              "\n",
              "[96095 rows x 4 columns]"
            ]
          },
          "execution_count": 55,
          "metadata": {},
          "output_type": "execute_result"
        }
      ],
      "source": [
        "rfm_data = cs.copy()\n",
        "max_date = max(cs['order_purchase_timestamp'])\n",
        "rfm_data = cs.groupby('customer_unique_id').agg({'order_purchase_timestamp': lambda x: (max_date - x.max()).days,'order_id':'count','payment_value':'sum'}).reset_index()\n",
        "rfm_data.columns =['customer_id','recency','frequency','monetary']\n",
        "rfm_data"
      ]
    },
    {
      "cell_type": "code",
      "execution_count": 56,
      "metadata": {
        "id": "h5iuoo0L1hoC"
      },
      "outputs": [],
      "source": [
        "def k_means_group(data, n_clusters, random_state, asc=False, log_transf=False, standard_tranf=False):\n",
        "    \n",
        "    data_temp = data.copy()\n",
        "    if log_transf:\n",
        "        data_temp = np.log(data_temp) + 1\n",
        "        \n",
        "    if standard_tranf:\n",
        "        scaler = StandardScaler()\n",
        "        scaler = scaler.fit(data_temp)\n",
        "        data_temp = scaler.transform(data_temp)\n",
        "        \n",
        "    kmeans_sel = KMeans(n_clusters=n_clusters, random_state=random_state, n_init='auto').fit(data_temp)\n",
        "    \n",
        "    cluster_group = data.assign(cluster = kmeans_sel.labels_)\n",
        "    \n",
        "    mean_group = cluster_group.groupby('cluster').mean().reset_index()\n",
        "    mean_group = mean_group.sort_values(by=mean_group.columns[1],ascending=asc)\n",
        "    mean_group['cluster_set'] = [i for i in range(n_clusters, 0, -1) ]\n",
        "    \n",
        "    cluster_map = mean_group.set_index('cluster').to_dict()['cluster_set']\n",
        "    \n",
        "    return cluster_group['cluster'].map(cluster_map)"
      ]
    },
    {
      "cell_type": "code",
      "execution_count": 57,
      "metadata": {
        "colab": {
          "base_uri": "https://localhost:8080/",
          "height": 243
        },
        "id": "jD5sR_kmd_TC",
        "outputId": "835ae42b-2f49-44f0-f245-9c944b5041b0"
      },
      "outputs": [
        {
          "data": {
            "image/png": "[encoded data removed]",
            "text/plain": [
              "<Figure size 800x500 with 1 Axes>"
            ]
          },
          "metadata": {},
          "output_type": "display_data"
        }
      ],
      "source": [
        "inertia = {}\n",
        "\n",
        "for k in range(2,13):\n",
        "    km = KMeans(n_clusters=k, n_init='auto')\n",
        "    km = km.fit(rfm_data[['monetary']])\n",
        "    inertia[k] = km.inertia_\n",
        "\n",
        "plt.figure(figsize=(8,5))\n",
        "plt.plot(list(inertia.keys()), list(inertia.values()))\n",
        "plt.xlabel('Number of clusters (k)')\n",
        "plt.ylabel('Inertia')\n",
        "plt.show()"
      ]
    },
    {
      "cell_type": "code",
      "execution_count": 58,
      "metadata": {
        "id": "bBTexHlc1q_V"
      },
      "outputs": [
        {
          "data": {
            "text/html": [
              "<div>\n",
              "<style scoped>\n",
              "    .dataframe tbody tr th:only-of-type {\n",
              "        vertical-align: middle;\n",
              "    }\n",
              "\n",
              "    .dataframe tbody tr th {\n",
              "        vertical-align: top;\n",
              "    }\n",
              "\n",
              "    .dataframe thead th {\n",
              "        text-align: right;\n",
              "    }\n",
              "</style>\n",
              "<table border=\"1\" class=\"dataframe\">\n",
              "  <thead>\n",
              "    <tr style=\"text-align: right;\">\n",
              "      <th></th>\n",
              "      <th>customer_id</th>\n",
              "      <th>recency</th>\n",
              "      <th>frequency</th>\n",
              "      <th>monetary</th>\n",
              "      <th>R</th>\n",
              "      <th>F</th>\n",
              "      <th>M</th>\n",
              "    </tr>\n",
              "  </thead>\n",
              "  <tbody>\n",
              "    <tr>\n",
              "      <th>0</th>\n",
              "      <td>0000366f3b9a7992bf8c76cfdf3221e2</td>\n",
              "      <td>160</td>\n",
              "      <td>1</td>\n",
              "      <td>141.900</td>\n",
              "      <td>4</td>\n",
              "      <td>1</td>\n",
              "      <td>1</td>\n",
              "    </tr>\n",
              "    <tr>\n",
              "      <th>1</th>\n",
              "      <td>0000b849f77a49e4a4ce2b2a4ca5be3f</td>\n",
              "      <td>163</td>\n",
              "      <td>1</td>\n",
              "      <td>27.190</td>\n",
              "      <td>4</td>\n",
              "      <td>1</td>\n",
              "      <td>1</td>\n",
              "    </tr>\n",
              "    <tr>\n",
              "      <th>2</th>\n",
              "      <td>0000f46a3911fa3c0805444483337064</td>\n",
              "      <td>585</td>\n",
              "      <td>1</td>\n",
              "      <td>86.220</td>\n",
              "      <td>1</td>\n",
              "      <td>1</td>\n",
              "      <td>1</td>\n",
              "    </tr>\n",
              "    <tr>\n",
              "      <th>3</th>\n",
              "      <td>0000f6ccb0745a6a4b88665a16c9f078</td>\n",
              "      <td>369</td>\n",
              "      <td>1</td>\n",
              "      <td>43.620</td>\n",
              "      <td>3</td>\n",
              "      <td>1</td>\n",
              "      <td>1</td>\n",
              "    </tr>\n",
              "    <tr>\n",
              "      <th>4</th>\n",
              "      <td>0004aac84e0df4da2b147fca70cf8255</td>\n",
              "      <td>336</td>\n",
              "      <td>1</td>\n",
              "      <td>196.890</td>\n",
              "      <td>3</td>\n",
              "      <td>1</td>\n",
              "      <td>2</td>\n",
              "    </tr>\n",
              "    <tr>\n",
              "      <th>...</th>\n",
              "      <td>...</td>\n",
              "      <td>...</td>\n",
              "      <td>...</td>\n",
              "      <td>...</td>\n",
              "      <td>...</td>\n",
              "      <td>...</td>\n",
              "      <td>...</td>\n",
              "    </tr>\n",
              "    <tr>\n",
              "      <th>96090</th>\n",
              "      <td>fffcf5a5ff07b0908bd4e2dbc735a684</td>\n",
              "      <td>495</td>\n",
              "      <td>1</td>\n",
              "      <td>2067.420</td>\n",
              "      <td>2</td>\n",
              "      <td>1</td>\n",
              "      <td>4</td>\n",
              "    </tr>\n",
              "    <tr>\n",
              "      <th>96091</th>\n",
              "      <td>fffea47cd6d3cc0a88bd621562a9d061</td>\n",
              "      <td>310</td>\n",
              "      <td>1</td>\n",
              "      <td>84.580</td>\n",
              "      <td>3</td>\n",
              "      <td>1</td>\n",
              "      <td>1</td>\n",
              "    </tr>\n",
              "    <tr>\n",
              "      <th>96092</th>\n",
              "      <td>ffff371b4d645b6ecea244b27531430a</td>\n",
              "      <td>617</td>\n",
              "      <td>1</td>\n",
              "      <td>112.460</td>\n",
              "      <td>1</td>\n",
              "      <td>1</td>\n",
              "      <td>1</td>\n",
              "    </tr>\n",
              "    <tr>\n",
              "      <th>96093</th>\n",
              "      <td>ffff5962728ec6157033ef9805bacc48</td>\n",
              "      <td>168</td>\n",
              "      <td>1</td>\n",
              "      <td>133.690</td>\n",
              "      <td>4</td>\n",
              "      <td>1</td>\n",
              "      <td>1</td>\n",
              "    </tr>\n",
              "    <tr>\n",
              "      <th>96094</th>\n",
              "      <td>ffffd2657e2aad2907e67c3e9daecbeb</td>\n",
              "      <td>532</td>\n",
              "      <td>1</td>\n",
              "      <td>71.560</td>\n",
              "      <td>1</td>\n",
              "      <td>1</td>\n",
              "      <td>1</td>\n",
              "    </tr>\n",
              "  </tbody>\n",
              "</table>\n",
              "<p>96095 rows × 7 columns</p>\n",
              "</div>"
            ],
            "text/plain": [
              "                            customer_id  recency  frequency  monetary  R  F  M\n",
              "0      0000366f3b9a7992bf8c76cfdf3221e2      160          1   141.900  4  1  1\n",
              "1      0000b849f77a49e4a4ce2b2a4ca5be3f      163          1    27.190  4  1  1\n",
              "2      0000f46a3911fa3c0805444483337064      585          1    86.220  1  1  1\n",
              "3      0000f6ccb0745a6a4b88665a16c9f078      369          1    43.620  3  1  1\n",
              "4      0004aac84e0df4da2b147fca70cf8255      336          1   196.890  3  1  2\n",
              "...                                 ...      ...        ...       ... .. .. ..\n",
              "96090  fffcf5a5ff07b0908bd4e2dbc735a684      495          1  2067.420  2  1  4\n",
              "96091  fffea47cd6d3cc0a88bd621562a9d061      310          1    84.580  3  1  1\n",
              "96092  ffff371b4d645b6ecea244b27531430a      617          1   112.460  1  1  1\n",
              "96093  ffff5962728ec6157033ef9805bacc48      168          1   133.690  4  1  1\n",
              "96094  ffffd2657e2aad2907e67c3e9daecbeb      532          1    71.560  1  1  1\n",
              "\n",
              "[96095 rows x 7 columns]"
            ]
          },
          "execution_count": 58,
          "metadata": {},
          "output_type": "execute_result"
        }
      ],
      "source": [
        "r_labels = k_means_group(rfm_data[['recency']],5,1,asc=True)\n",
        "f_labels = k_means_group(rfm_data[['frequency']],5,1)\n",
        "m_labels = k_means_group(rfm_data[['monetary']],5,1)\n",
        "\n",
        "rfm_data = rfm_data.assign(R = r_labels, F = f_labels, M = m_labels) \n",
        "rfm_data"
      ]
    },
    {
      "cell_type": "markdown",
      "metadata": {
        "id": "x-GKOwSolt3e"
      },
      "source": [
        "\n",
        "**Segmentation on RFM**\n",
        "\n",
        "---\n",
        "\n",
        "\n",
        "\n",
        "| Segment Name               | Range of R values | Range of F and M Average |\n",
        "|----------------------------|-------------------|--------------------------|\n",
        "| Champions                  |       4 - 5       |           4 - 5          |\n",
        "| Loyal Customers            |       2 - 5       |           3 - 5          |\n",
        "| Potential Loyalist         |       3 - 5       |           1 - 3          |\n",
        "| New Customers              |       4 - 5       |           0 - 1          |\n",
        "| Promising                  |       3 - 4       |           0 - 1          |\n",
        "| Customers Needing Attetion |       2 - 3       |           2 - 3          |\n",
        "| About to Sleep             |       2 - 3       |           0 - 2          |\n",
        "| At Risk                    |       0 - 2       |           2 - 5          |\n",
        "| Can't Lose Them            |       0 - 1       |           4 - 5          |\n",
        "| Hibernating                |       1 - 2       |           1 - 2          |\n",
        "| Lost                       |       0 - 2       |           0 - 2          |\n",
        "\n",
        "*source:https://www.putler.com/rfm-analysis/"
      ]
    },
    {
      "cell_type": "code",
      "execution_count": 59,
      "metadata": {
        "id": "kXeHN6iVhr8q"
      },
      "outputs": [],
      "source": [
        "def get_segment(data):\n",
        "    mean_fm = (data['F'] + data['M']) / 2\n",
        "    \n",
        "    if (data['R'] >= 4 and data['R'] <= 5) and (mean_fm >= 4 and mean_fm <= 5):\n",
        "        return 'Champions'\n",
        "    if (data['R'] >= 2 and data['R'] <= 5) and (mean_fm >= 3 and mean_fm <= 5):\n",
        "        return 'Loyal Customers'\n",
        "    if (data['R'] >= 3 and data['R'] <= 5) and (mean_fm >= 1 and mean_fm <= 3):\n",
        "        return 'Potential Loyalist'\n",
        "    if (data['R'] >= 4 and data['R'] <= 5) and (mean_fm >= 0 and mean_fm <= 1):\n",
        "        return 'New Customers'\n",
        "    if (data['R'] >= 3 and data['R'] <= 4) and (mean_fm >= 0 and mean_fm <= 1):\n",
        "        return 'Promising'\n",
        "    if (data['R'] >= 2 and data['R'] <= 3) and (mean_fm >= 2 and mean_fm <= 3):\n",
        "        return 'Customer Needing Attention'\n",
        "    if (data['R'] >= 2 and data['R'] <= 3) and (mean_fm >= 0 and mean_fm <= 2):\n",
        "        return 'About to Sleep'\n",
        "    if (data['R'] >= 0 and data['R'] <= 2) and (mean_fm >= 2 and mean_fm <= 5):\n",
        "        return 'At Risk'\n",
        "    if (data['R'] >= 0 and data['R'] <= 1) and (mean_fm >= 4 and mean_fm <= 5):\n",
        "        return \"Can't Lose Then\"\n",
        "    if (data['R'] >= 1 and data['R'] <= 2) and (mean_fm >= 1 and mean_fm <= 2):\n",
        "        return 'Hibernating'\n",
        "    return 'Lost'"
      ]
    },
    {
      "cell_type": "code",
      "execution_count": 60,
      "metadata": {
        "id": "RN13udRSh58H"
      },
      "outputs": [
        {
          "data": {
            "text/html": [
              "<div>\n",
              "<style scoped>\n",
              "    .dataframe tbody tr th:only-of-type {\n",
              "        vertical-align: middle;\n",
              "    }\n",
              "\n",
              "    .dataframe tbody tr th {\n",
              "        vertical-align: top;\n",
              "    }\n",
              "\n",
              "    .dataframe thead th {\n",
              "        text-align: right;\n",
              "    }\n",
              "</style>\n",
              "<table border=\"1\" class=\"dataframe\">\n",
              "  <thead>\n",
              "    <tr style=\"text-align: right;\">\n",
              "      <th></th>\n",
              "      <th>customer_id</th>\n",
              "      <th>recency</th>\n",
              "      <th>frequency</th>\n",
              "      <th>monetary</th>\n",
              "      <th>R</th>\n",
              "      <th>F</th>\n",
              "      <th>M</th>\n",
              "      <th>segment</th>\n",
              "    </tr>\n",
              "  </thead>\n",
              "  <tbody>\n",
              "    <tr>\n",
              "      <th>0</th>\n",
              "      <td>0000366f3b9a7992bf8c76cfdf3221e2</td>\n",
              "      <td>160</td>\n",
              "      <td>1</td>\n",
              "      <td>141.900</td>\n",
              "      <td>4</td>\n",
              "      <td>1</td>\n",
              "      <td>1</td>\n",
              "      <td>Potential Loyalist</td>\n",
              "    </tr>\n",
              "    <tr>\n",
              "      <th>1</th>\n",
              "      <td>0000b849f77a49e4a4ce2b2a4ca5be3f</td>\n",
              "      <td>163</td>\n",
              "      <td>1</td>\n",
              "      <td>27.190</td>\n",
              "      <td>4</td>\n",
              "      <td>1</td>\n",
              "      <td>1</td>\n",
              "      <td>Potential Loyalist</td>\n",
              "    </tr>\n",
              "    <tr>\n",
              "      <th>2</th>\n",
              "      <td>0000f46a3911fa3c0805444483337064</td>\n",
              "      <td>585</td>\n",
              "      <td>1</td>\n",
              "      <td>86.220</td>\n",
              "      <td>1</td>\n",
              "      <td>1</td>\n",
              "      <td>1</td>\n",
              "      <td>Hibernating</td>\n",
              "    </tr>\n",
              "    <tr>\n",
              "      <th>3</th>\n",
              "      <td>0000f6ccb0745a6a4b88665a16c9f078</td>\n",
              "      <td>369</td>\n",
              "      <td>1</td>\n",
              "      <td>43.620</td>\n",
              "      <td>3</td>\n",
              "      <td>1</td>\n",
              "      <td>1</td>\n",
              "      <td>Potential Loyalist</td>\n",
              "    </tr>\n",
              "    <tr>\n",
              "      <th>4</th>\n",
              "      <td>0004aac84e0df4da2b147fca70cf8255</td>\n",
              "      <td>336</td>\n",
              "      <td>1</td>\n",
              "      <td>196.890</td>\n",
              "      <td>3</td>\n",
              "      <td>1</td>\n",
              "      <td>2</td>\n",
              "      <td>Potential Loyalist</td>\n",
              "    </tr>\n",
              "  </tbody>\n",
              "</table>\n",
              "</div>"
            ],
            "text/plain": [
              "                        customer_id  recency  frequency  monetary  R  F  M  \\\n",
              "0  0000366f3b9a7992bf8c76cfdf3221e2      160          1   141.900  4  1  1   \n",
              "1  0000b849f77a49e4a4ce2b2a4ca5be3f      163          1    27.190  4  1  1   \n",
              "2  0000f46a3911fa3c0805444483337064      585          1    86.220  1  1  1   \n",
              "3  0000f6ccb0745a6a4b88665a16c9f078      369          1    43.620  3  1  1   \n",
              "4  0004aac84e0df4da2b147fca70cf8255      336          1   196.890  3  1  2   \n",
              "\n",
              "              segment  \n",
              "0  Potential Loyalist  \n",
              "1  Potential Loyalist  \n",
              "2         Hibernating  \n",
              "3  Potential Loyalist  \n",
              "4  Potential Loyalist  "
            ]
          },
          "execution_count": 60,
          "metadata": {},
          "output_type": "execute_result"
        }
      ],
      "source": [
        "rfm_data['segment'] = rfm_data.apply(get_segment,axis=1)\n",
        "rfm_data.head()"
      ]
    },
    {
      "cell_type": "code",
      "execution_count": 61,
      "metadata": {
        "id": "uzygyFcniRaN"
      },
      "outputs": [
        {
          "data": {
            "image/png": "[encoded data removed]",
            "text/plain": [
              "<Figure size 1000x500 with 1 Axes>"
            ]
          },
          "metadata": {},
          "output_type": "display_data"
        }
      ],
      "source": [
        "plt.figure(figsize=(10,5))\n",
        "percentage = (rfm_data['segment'].value_counts(normalize=True)* 100).reset_index(name='percentage')\n",
        "g = sns.barplot(x=percentage['percentage'],y=percentage['index'], data=percentage,palette=\"GnBu_d\")\n",
        "sns.despine(bottom = True, left = True)\n",
        "for i, v in enumerate(percentage['percentage']):\n",
        "    g.text(v,i+0.20,\"  {:.3f}\".format(v)+\"%\", color='black', ha=\"left\")\n",
        "g.set_ylabel('Segmentation')\n",
        "g.set(xticks=[])\n",
        "plt.show()"
      ]
    },
    {
      "cell_type": "code",
      "execution_count": 62,
      "metadata": {
        "id": "W7lgigiDE_9o"
      },
      "outputs": [
        {
          "name": "stdout",
          "output_type": "stream",
          "text": [
            "Requirement already satisfied: squarify in c:\\miniconda3\\envs\\minimal_da\\lib\\site-packages (0.4.3)\n"
          ]
        }
      ],
      "source": [
        "!pip install squarify\n",
        "import squarify"
      ]
    },
    {
      "cell_type": "code",
      "execution_count": 63,
      "metadata": {
        "id": "qK9jeUdPHg68"
      },
      "outputs": [
        {
          "data": {
            "text/html": [
              "<div>\n",
              "<style scoped>\n",
              "    .dataframe tbody tr th:only-of-type {\n",
              "        vertical-align: middle;\n",
              "    }\n",
              "\n",
              "    .dataframe tbody tr th {\n",
              "        vertical-align: top;\n",
              "    }\n",
              "\n",
              "    .dataframe thead th {\n",
              "        text-align: right;\n",
              "    }\n",
              "</style>\n",
              "<table border=\"1\" class=\"dataframe\">\n",
              "  <thead>\n",
              "    <tr style=\"text-align: right;\">\n",
              "      <th></th>\n",
              "      <th>groupsize</th>\n",
              "    </tr>\n",
              "    <tr>\n",
              "      <th>segment</th>\n",
              "      <th></th>\n",
              "    </tr>\n",
              "  </thead>\n",
              "  <tbody>\n",
              "    <tr>\n",
              "      <th>About to Sleep</th>\n",
              "      <td>14440</td>\n",
              "    </tr>\n",
              "    <tr>\n",
              "      <th>At Risk</th>\n",
              "      <td>838</td>\n",
              "    </tr>\n",
              "    <tr>\n",
              "      <th>Champions</th>\n",
              "      <td>5</td>\n",
              "    </tr>\n",
              "    <tr>\n",
              "      <th>Customer Needing Attention</th>\n",
              "      <td>1121</td>\n",
              "    </tr>\n",
              "    <tr>\n",
              "      <th>Hibernating</th>\n",
              "      <td>10611</td>\n",
              "    </tr>\n",
              "    <tr>\n",
              "      <th>Loyal Customers</th>\n",
              "      <td>269</td>\n",
              "    </tr>\n",
              "    <tr>\n",
              "      <th>Potential Loyalist</th>\n",
              "      <td>68811</td>\n",
              "    </tr>\n",
              "  </tbody>\n",
              "</table>\n",
              "</div>"
            ],
            "text/plain": [
              "                            groupsize\n",
              "segment                              \n",
              "About to Sleep                  14440\n",
              "At Risk                           838\n",
              "Champions                           5\n",
              "Customer Needing Attention       1121\n",
              "Hibernating                     10611\n",
              "Loyal Customers                   269\n",
              "Potential Loyalist              68811"
            ]
          },
          "execution_count": 63,
          "metadata": {},
          "output_type": "execute_result"
        }
      ],
      "source": [
        "size = rfm_data.groupby('segment').agg(groupsize = ('recency', 'size'))\n",
        "size"
      ]
    },
    {
      "cell_type": "code",
      "execution_count": 64,
      "metadata": {
        "id": "EvpOxJ2OErxM"
      },
      "outputs": [
        {
          "data": {
            "image/png": "[encoded data removed]",
            "text/plain": [
              "<Figure size 1500x1000 with 1 Axes>"
            ]
          },
          "metadata": {},
          "output_type": "display_data"
        }
      ],
      "source": [
        "fig = plt.gcf()\n",
        "ax = fig.add_subplot()\n",
        "fig.set_size_inches(15, 10)\n",
        "squarify.plot(sizes = size['groupsize'], \n",
        "              label = size.index,\n",
        "              color = ['blue','firebrick','white', 'tomato', 'teal', 'olive', 'gold'],\n",
        "              alpha = 0.5)\n",
        "plt.title(\"RFM Segment\",fontsize=18,fontweight=\"bold\")\n",
        "plt.axis('off')\n",
        "plt.show()"
      ]
    },
    {
      "cell_type": "code",
      "execution_count": 65,
      "metadata": {
        "id": "LWi-XhDhjAGN"
      },
      "outputs": [
        {
          "name": "stderr",
          "output_type": "stream",
          "text": [
            "C:\\Users\\Aditya Manggala Gita\\AppData\\Local\\Temp\\ipykernel_11896\\1787118873.py:1: FutureWarning: Indexing with multiple keys (implicitly converted to a tuple of keys) will be deprecated, use a list instead.\n",
            "  rfm_data.groupby('segment')['recency','frequency','monetary'].mean().reset_index()\n"
          ]
        },
        {
          "data": {
            "text/html": [
              "<div>\n",
              "<style scoped>\n",
              "    .dataframe tbody tr th:only-of-type {\n",
              "        vertical-align: middle;\n",
              "    }\n",
              "\n",
              "    .dataframe tbody tr th {\n",
              "        vertical-align: top;\n",
              "    }\n",
              "\n",
              "    .dataframe thead th {\n",
              "        text-align: right;\n",
              "    }\n",
              "</style>\n",
              "<table border=\"1\" class=\"dataframe\">\n",
              "  <thead>\n",
              "    <tr style=\"text-align: right;\">\n",
              "      <th></th>\n",
              "      <th>segment</th>\n",
              "      <th>recency</th>\n",
              "      <th>frequency</th>\n",
              "      <th>monetary</th>\n",
              "    </tr>\n",
              "  </thead>\n",
              "  <tbody>\n",
              "    <tr>\n",
              "      <th>0</th>\n",
              "      <td>About to Sleep</td>\n",
              "      <td>433.958</td>\n",
              "      <td>1.033</td>\n",
              "      <td>122.908</td>\n",
              "    </tr>\n",
              "    <tr>\n",
              "      <th>1</th>\n",
              "      <td>At Risk</td>\n",
              "      <td>566.644</td>\n",
              "      <td>1.813</td>\n",
              "      <td>745.416</td>\n",
              "    </tr>\n",
              "    <tr>\n",
              "      <th>2</th>\n",
              "      <td>Champions</td>\n",
              "      <td>115.400</td>\n",
              "      <td>8.000</td>\n",
              "      <td>3549.136</td>\n",
              "    </tr>\n",
              "    <tr>\n",
              "      <th>3</th>\n",
              "      <td>Customer Needing Attention</td>\n",
              "      <td>431.228</td>\n",
              "      <td>1.683</td>\n",
              "      <td>641.790</td>\n",
              "    </tr>\n",
              "    <tr>\n",
              "      <th>4</th>\n",
              "      <td>Hibernating</td>\n",
              "      <td>564.425</td>\n",
              "      <td>1.032</td>\n",
              "      <td>125.325</td>\n",
              "    </tr>\n",
              "    <tr>\n",
              "      <th>5</th>\n",
              "      <td>Loyal Customers</td>\n",
              "      <td>235.691</td>\n",
              "      <td>3.487</td>\n",
              "      <td>1539.242</td>\n",
              "    </tr>\n",
              "    <tr>\n",
              "      <th>6</th>\n",
              "      <td>Potential Loyalist</td>\n",
              "      <td>208.859</td>\n",
              "      <td>1.070</td>\n",
              "      <td>161.723</td>\n",
              "    </tr>\n",
              "  </tbody>\n",
              "</table>\n",
              "</div>"
            ],
            "text/plain": [
              "                      segment  recency  frequency  monetary\n",
              "0              About to Sleep  433.958      1.033   122.908\n",
              "1                     At Risk  566.644      1.813   745.416\n",
              "2                   Champions  115.400      8.000  3549.136\n",
              "3  Customer Needing Attention  431.228      1.683   641.790\n",
              "4                 Hibernating  564.425      1.032   125.325\n",
              "5             Loyal Customers  235.691      3.487  1539.242\n",
              "6          Potential Loyalist  208.859      1.070   161.723"
            ]
          },
          "execution_count": 65,
          "metadata": {},
          "output_type": "execute_result"
        }
      ],
      "source": [
        "rfm_data.groupby('segment')['recency','frequency','monetary'].mean().reset_index()"
      ]
    },
    {
      "cell_type": "markdown",
      "metadata": {
        "id": "t9Dpocd9mJv6"
      },
      "source": [
        "##Conclusion\n",
        "\n",
        "**70.779% - Potential Loyalist:**\n",
        "\n",
        "These are recent buyers, spend a good amount and have bought more than once.\n",
        "\n",
        "<u>CRM Strategy</u>:\n",
        "\n",
        "* Offer a loyalty program;\n",
        "* Keep them engaged;\n",
        "* Personalized and other product recommendations.\n",
        "\n",
        "**15.389% - About to Sleep:**\n",
        "\n",
        "These are customers who haven't bought in a long time, but may still buy again.\n",
        "\n",
        "<u>CRM Strategy</u>:\n",
        "\n",
        "* Offer discounts;\n",
        "* Recommendation of popular products.\n",
        "\n",
        "**11.743% - Hibernating:**\n",
        "\n",
        "These are customers who have bought a long time ago, only a few times and have spent little\n",
        "\n",
        "<u>CRM Strategy</u>:\n",
        "\n",
        "* Standard communication for sending offers;\n",
        "* Offer relevant products and good deals.\n",
        "\n",
        "**1.116% - Customer Needing Attetion:**\n",
        "\n",
        "These are customers who have recently purchased, however are still in doubt whether they will make their next purchase from the company or a competitor.\n",
        "\n",
        "<u>CRM Strategy</u>:\n",
        "\n",
        "* Promotional campaigns for a limited time;\n",
        "* Product recommendations based on their behavior;\n",
        "* Show the importance of buying with the company.\n",
        "\n",
        "**0.828% - At Risk:**\n",
        "\n",
        "These are customers who have spent very little money and buy frequently, but have not bought for a long time\n",
        "\n",
        "<u>CRM Strategy</u>:\n",
        "\n",
        "* Send personalized communications and other messages to reconnect;\n",
        "* Offer good deals.\n",
        "\n",
        "**0.145% - Loyal Customers:**\n",
        "\n",
        "These are customers who spend well and often.\n",
        "\n",
        "<u>CRM Strategy</u>:\n",
        "\n",
        "* Personalized communication;\n",
        "* Avoid mass mailing of offers;\n",
        "* Offer few products, but present products that they are likely to be interested in;\n",
        "* Ask for product reviews.\n",
        "\n",
        "**0.001% - Champions:**\n",
        "\n",
        "These are customers who have bought recently, buy often, and spend a lot.\n",
        "\n",
        "<u> CRM Strategy</u>:\n",
        "\n",
        "* Special offers, products and discounts for these customers so they feel valued;\n",
        "* Ask for reviews and feedbacks constantly;\n",
        "* Avoid sending massive amounts of offers;\n",
        "* Personalized communication;\n",
        "* Give rewards."
      ]
    }
  ],
  "metadata": {
    "colab": {
      "authorship_tag": "ABX9TyPEgCgDzXPzQKAylyMHmigM",
      "include_colab_link": true,
      "provenance": [],
      "toc_visible": true
    },
    "kernelspec": {
      "display_name": "minimal_da",
      "language": "python",
      "name": "python3"
    },
    "language_info": {
      "codemirror_mode": {
        "name": "ipython",
        "version": 3
      },
      "file_extension": ".py",
      "mimetype": "text/x-python",
      "name": "python",
      "nbconvert_exporter": "python",
      "pygments_lexer": "ipython3",
      "version": "3.10.8"
    },
    "vscode": {
      "interpreter": {
        "hash": "4eff73a5db64605a8f5c994df1078dce125db538be6eb920bb22b5264f26b485"
      }
    }
  },
  "nbformat": 4,
  "nbformat_minor": 0
}
